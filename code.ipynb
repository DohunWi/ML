{
 "cells": [
  {
   "cell_type": "markdown",
   "id": "88d936d9",
   "metadata": {},
   "source": [
    "https://github.com/wikibook/pymlrev2"
   ]
  }
 ],
 "metadata": {
  "language_info": {
   "name": "python"
  }
 },
 "nbformat": 4,
 "nbformat_minor": 5
}
