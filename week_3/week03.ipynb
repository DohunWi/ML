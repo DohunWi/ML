{
 "cells": [
  {
   "cell_type": "markdown",
   "id": "211a8fbf",
   "metadata": {},
   "source": [
    "# WEEK_03"
   ]
  },
  {
   "cell_type": "markdown",
   "id": "c75e8366",
   "metadata": {},
   "source": [
    "## 1. 데이터 스케일링 변환\n",
    "\n",
    "- Scaler 객체를 이용해 변환\n",
    "    - fit() : 데이터 변환을 위한 기준 정보를 설정함 (ex : 최댓값 / 최솟값 설정 등)\n",
    "    - transform() : 설정된 정보를 이용해 데이터를 변환\n",
    "    - fit_transform() : fit 과 transform을 한번에 적용\n",
    "- 변환 시 유의할 점\n",
    "    - 학습 / 테스트 데이터 세트에 변환 시 학습 데이터에 fit() 한 동일한 스케일러로 테스트 데이터에 적용해야 한다.\n",
    "        \n",
    "        → 만약 테스트 데이터에 새로 fit()한 스케일러로 예측을 수행하게 되면 학습 데이터와 테스트 데이터의        스케일링 기준 정보가 서로 달라지기 때문에 올바른 예측결과를 도출하지 못할 수 있음.\n",
    "        \n",
    "- Scaler class의 fit(), transform()은 2차원 이상 데이터만 가능함."
   ]
  },
  {
   "cell_type": "code",
   "execution_count": 1,
   "id": "c5e9a614",
   "metadata": {},
   "outputs": [
    {
     "name": "stdout",
     "output_type": "stream",
     "text": [
      "original train data:[ 0  1  2  3  4  5  6  7  8  9 10]\n",
      "scaled train data:[0.  0.1 0.2 0.3 0.4 0.5 0.6 0.7 0.8 0.9 1. ]\n"
     ]
    }
   ],
   "source": [
    "from sklearn.preprocessing import MinMaxScaler\n",
    "import numpy as np\n",
    "\n",
    "# data 2차원 reshape\n",
    "train_array = np.arange(0, 11).reshape(-1, 1)\n",
    "test_array = np.arange(0, 6).reshape(-1, 1)\n",
    "\n",
    "# MinMaxScaler 객체에 별도의 feature_range 파라미터 값을 지정하지 않으면 0~1 값으로 변환 \n",
    "scaler = MinMaxScaler()\n",
    "\n",
    "# fit -> min=0, max=10\n",
    "scaler.fit(train_array)\n",
    "\n",
    "# transform -> 원본 10->1로 변경됨, 1/10 scale로 테스트 데이터 변환\n",
    "train_scaled = scaler.transform(train_array)\n",
    "\n",
    "print('original train data:{}'.format(train_array.reshape(-1),2))\n",
    "print('scaled train data:{0}'.format(train_scaled.reshape(-1),2))\n"
   ]
  },
  {
   "cell_type": "code",
   "execution_count": 2,
   "id": "dc19e3bd",
   "metadata": {},
   "outputs": [
    {
     "name": "stdout",
     "output_type": "stream",
     "text": [
      "original test data:[0 1 2 3 4 5]\n",
      "scaled test data:[0.  0.2 0.4 0.6 0.8 1. ]\n"
     ]
    }
   ],
   "source": [
    "# test data로 새로 fit 한 후에 transform 한 경우\n",
    "# 값이 달라짐\n",
    "scaler.fit(test_array)\n",
    "test_scaled = scaler.transform(test_array)\n",
    "\n",
    "print('original test data:{}'.format(test_array.reshape(-1),2))\n",
    "print('scaled test data:{}'.format(test_scaled.reshape(-1),2))"
   ]
  },
  {
   "cell_type": "code",
   "execution_count": 3,
   "id": "afc7c09e",
   "metadata": {},
   "outputs": [
    {
     "name": "stdout",
     "output_type": "stream",
     "text": [
      "original train data:[ 0  1  2  3  4  5  6  7  8  9 10]\n",
      "scaled train data:[0.  0.1 0.2 0.3 0.4 0.5 0.6 0.7 0.8 0.9 1. ]\n",
      "original test data:[0 1 2 3 4 5]\n",
      "scaled test data:[0.  0.1 0.2 0.3 0.4 0.5]\n"
     ]
    }
   ],
   "source": [
    "# 동일한 scaler로 transform 한 경우\n",
    "# 값이 동일하다\n",
    "scaler = MinMaxScaler()\n",
    "\n",
    "scaler.fit(train_array)\n",
    "train_scaled = scaler.transform(train_array)\n",
    "test_scaled = scaler.transform(test_array)\n",
    "\n",
    "print('original train data:{}'.format(train_array.reshape(-1),2))\n",
    "print('scaled train data:{0}'.format(train_scaled.reshape(-1),2))\n",
    "print('original test data:{}'.format(test_array.reshape(-1),2))\n",
    "print('scaled test data:{}'.format(test_scaled.reshape(-1),2))"
   ]
  },
  {
   "cell_type": "markdown",
   "id": "7b3fbbfa",
   "metadata": {},
   "source": [
    "- fit_transform()을 적용할 때도 동일함\n",
    "\n",
    "### - 데이터 스케일링 시 유의점 요약\n",
    "1. 가능하다면 전체 데이터의 스케일링 변환을 적용 한 뒤 학습과 테스트 데이터로 분리\n",
    "2. 1이 여의치 않다면 테스트 데이터 변환 시에는 fit이나 fit_transform을 적용하지 않고 학습 데이터로 fit한 scaler를 이용해 transform한다."
   ]
  },
  {
   "cell_type": "markdown",
   "id": "ec5e1535",
   "metadata": {},
   "source": [
    "## 2. 사이킷런으로 수행하는 타이타닉 생존자 예측\n",
    "Task : kaggle에서 제공하는 타이타닉 탑승자 데이터를 기반으로 생존자 예측하기"
   ]
  },
  {
   "cell_type": "code",
   "execution_count": 4,
   "id": "49954e71",
   "metadata": {},
   "outputs": [
    {
     "data": {
      "text/html": [
       "<div>\n",
       "<style scoped>\n",
       "    .dataframe tbody tr th:only-of-type {\n",
       "        vertical-align: middle;\n",
       "    }\n",
       "\n",
       "    .dataframe tbody tr th {\n",
       "        vertical-align: top;\n",
       "    }\n",
       "\n",
       "    .dataframe thead th {\n",
       "        text-align: right;\n",
       "    }\n",
       "</style>\n",
       "<table border=\"1\" class=\"dataframe\">\n",
       "  <thead>\n",
       "    <tr style=\"text-align: right;\">\n",
       "      <th></th>\n",
       "      <th>PassengerId</th>\n",
       "      <th>Survived</th>\n",
       "      <th>Pclass</th>\n",
       "      <th>Name</th>\n",
       "      <th>Sex</th>\n",
       "      <th>Age</th>\n",
       "      <th>SibSp</th>\n",
       "      <th>Parch</th>\n",
       "      <th>Ticket</th>\n",
       "      <th>Fare</th>\n",
       "      <th>Cabin</th>\n",
       "      <th>Embarked</th>\n",
       "    </tr>\n",
       "  </thead>\n",
       "  <tbody>\n",
       "    <tr>\n",
       "      <th>0</th>\n",
       "      <td>1</td>\n",
       "      <td>0</td>\n",
       "      <td>3</td>\n",
       "      <td>Braund, Mr. Owen Harris</td>\n",
       "      <td>male</td>\n",
       "      <td>22.0</td>\n",
       "      <td>1</td>\n",
       "      <td>0</td>\n",
       "      <td>A/5 21171</td>\n",
       "      <td>7.2500</td>\n",
       "      <td>NaN</td>\n",
       "      <td>S</td>\n",
       "    </tr>\n",
       "    <tr>\n",
       "      <th>1</th>\n",
       "      <td>2</td>\n",
       "      <td>1</td>\n",
       "      <td>1</td>\n",
       "      <td>Cumings, Mrs. John Bradley (Florence Briggs Th...</td>\n",
       "      <td>female</td>\n",
       "      <td>38.0</td>\n",
       "      <td>1</td>\n",
       "      <td>0</td>\n",
       "      <td>PC 17599</td>\n",
       "      <td>71.2833</td>\n",
       "      <td>C85</td>\n",
       "      <td>C</td>\n",
       "    </tr>\n",
       "    <tr>\n",
       "      <th>2</th>\n",
       "      <td>3</td>\n",
       "      <td>1</td>\n",
       "      <td>3</td>\n",
       "      <td>Heikkinen, Miss. Laina</td>\n",
       "      <td>female</td>\n",
       "      <td>26.0</td>\n",
       "      <td>0</td>\n",
       "      <td>0</td>\n",
       "      <td>STON/O2. 3101282</td>\n",
       "      <td>7.9250</td>\n",
       "      <td>NaN</td>\n",
       "      <td>S</td>\n",
       "    </tr>\n",
       "    <tr>\n",
       "      <th>3</th>\n",
       "      <td>4</td>\n",
       "      <td>1</td>\n",
       "      <td>1</td>\n",
       "      <td>Futrelle, Mrs. Jacques Heath (Lily May Peel)</td>\n",
       "      <td>female</td>\n",
       "      <td>35.0</td>\n",
       "      <td>1</td>\n",
       "      <td>0</td>\n",
       "      <td>113803</td>\n",
       "      <td>53.1000</td>\n",
       "      <td>C123</td>\n",
       "      <td>S</td>\n",
       "    </tr>\n",
       "    <tr>\n",
       "      <th>4</th>\n",
       "      <td>5</td>\n",
       "      <td>0</td>\n",
       "      <td>3</td>\n",
       "      <td>Allen, Mr. William Henry</td>\n",
       "      <td>male</td>\n",
       "      <td>35.0</td>\n",
       "      <td>0</td>\n",
       "      <td>0</td>\n",
       "      <td>373450</td>\n",
       "      <td>8.0500</td>\n",
       "      <td>NaN</td>\n",
       "      <td>S</td>\n",
       "    </tr>\n",
       "  </tbody>\n",
       "</table>\n",
       "</div>"
      ],
      "text/plain": [
       "   PassengerId  Survived  Pclass  \\\n",
       "0            1         0       3   \n",
       "1            2         1       1   \n",
       "2            3         1       3   \n",
       "3            4         1       1   \n",
       "4            5         0       3   \n",
       "\n",
       "                                                Name     Sex   Age  SibSp  \\\n",
       "0                            Braund, Mr. Owen Harris    male  22.0      1   \n",
       "1  Cumings, Mrs. John Bradley (Florence Briggs Th...  female  38.0      1   \n",
       "2                             Heikkinen, Miss. Laina  female  26.0      0   \n",
       "3       Futrelle, Mrs. Jacques Heath (Lily May Peel)  female  35.0      1   \n",
       "4                           Allen, Mr. William Henry    male  35.0      0   \n",
       "\n",
       "   Parch            Ticket     Fare Cabin Embarked  \n",
       "0      0         A/5 21171   7.2500   NaN        S  \n",
       "1      0          PC 17599  71.2833   C85        C  \n",
       "2      0  STON/O2. 3101282   7.9250   NaN        S  \n",
       "3      0            113803  53.1000  C123        S  \n",
       "4      0            373450   8.0500   NaN        S  "
      ]
     },
     "metadata": {},
     "output_type": "display_data"
    },
    {
     "name": "stdout",
     "output_type": "stream",
     "text": [
      "\n",
      " ### Data information ### \n",
      "\n",
      "<class 'pandas.core.frame.DataFrame'>\n",
      "RangeIndex: 891 entries, 0 to 890\n",
      "Data columns (total 12 columns):\n",
      " #   Column       Non-Null Count  Dtype  \n",
      "---  ------       --------------  -----  \n",
      " 0   PassengerId  891 non-null    int64  \n",
      " 1   Survived     891 non-null    int64  \n",
      " 2   Pclass       891 non-null    int64  \n",
      " 3   Name         891 non-null    object \n",
      " 4   Sex          891 non-null    object \n",
      " 5   Age          714 non-null    float64\n",
      " 6   SibSp        891 non-null    int64  \n",
      " 7   Parch        891 non-null    int64  \n",
      " 8   Ticket       891 non-null    object \n",
      " 9   Fare         891 non-null    float64\n",
      " 10  Cabin        204 non-null    object \n",
      " 11  Embarked     889 non-null    object \n",
      "dtypes: float64(2), int64(5), object(5)\n",
      "memory usage: 83.7+ KB\n",
      "None\n"
     ]
    }
   ],
   "source": [
    "import pandas as pd\n",
    "import numpy as np\n",
    "import matplotlib.pyplot as plt\n",
    "import seaborn as sns\n",
    "%matplotlib inline\n",
    "\n",
    "# data 살펴보기\n",
    "titanic_df = pd.read_csv('./data/train.csv')\n",
    "display(titanic_df.head())\n",
    "print('\\n ### Data information ### \\n')\n",
    "print(titanic_df.info())"
   ]
  },
  {
   "cell_type": "markdown",
   "id": "ff7aeadc",
   "metadata": {},
   "source": [
    "- Data info\n",
    "1. Passengerid : 탑승자 데이터 일련 번호\n",
    "2. survived : 생존 여부, 0=사망, 1=생존\n",
    "3. pclass : 티켓의 선실 등급, 1=일등석 2=이등석 3=삼등석\n",
    "4. sex : 탑승자 성별\n",
    "5. name : 탑승자 이름\n",
    "6. age : 탑승자 나이\n",
    "7. sibsp : 같이 탑승한 형제자매 또는 배우자 인원 수\n",
    "8. parch : 같이 탑승한 부모님 또는 어린이 인원수\n",
    "9. ticket : 티켓 번호\n",
    "10. fare : 요금\n",
    "11. cabin : 선실 번호\n",
    "12. embarked : 중간 정착 항구 C = Cherbourg, Q = Queenstown, S= Southampton"
   ]
  },
  {
   "cell_type": "markdown",
   "id": "9cb62d4a",
   "metadata": {},
   "source": [
    " -> pandas의 object 타입은 string타입으로 봐도 무방"
   ]
  },
  {
   "cell_type": "markdown",
   "id": "629f304f",
   "metadata": {},
   "source": [
    "- 사이킷런 머신러닝 알고리즘은 NULL값을 허용하지 않으므로 처리가 필요함. -> 여기서는 fillna()함수 이용"
   ]
  },
  {
   "cell_type": "code",
   "execution_count": 5,
   "id": "1d11aee0",
   "metadata": {},
   "outputs": [
    {
     "name": "stdout",
     "output_type": "stream",
     "text": [
      "Num of NULL : 866\n"
     ]
    }
   ],
   "source": [
    "titanic_df['Age'].fillna(titanic_df['Age'].mean())\n",
    "titanic_df['Cabin'].fillna('N')\n",
    "titanic_df['Embarked'].fillna('N')\n",
    "print('Num of NULL :', titanic_df.isnull().sum().sum())"
   ]
  },
  {
   "cell_type": "markdown",
   "id": "a8540586",
   "metadata": {},
   "source": [
    "- Data 분포 확인 (Sex, Cabin, Embarked) <- string"
   ]
  },
  {
   "cell_type": "code",
   "execution_count": 6,
   "id": "e027da8e",
   "metadata": {},
   "outputs": [
    {
     "name": "stdout",
     "output_type": "stream",
     "text": [
      "SEX 값 분포 : \n",
      " Sex\n",
      "male      577\n",
      "female    314\n",
      "Name: count, dtype: int64\n",
      "\n",
      "Cabin 값 분포 : \n",
      " Cabin\n",
      "B96 B98        4\n",
      "G6             4\n",
      "C23 C25 C27    4\n",
      "C22 C26        3\n",
      "F33            3\n",
      "              ..\n",
      "E34            1\n",
      "C7             1\n",
      "C54            1\n",
      "E36            1\n",
      "C148           1\n",
      "Name: count, Length: 147, dtype: int64\n",
      "\n",
      "Embarked 값 분포 : \n",
      " Embarked\n",
      "S    644\n",
      "C    168\n",
      "Q     77\n",
      "Name: count, dtype: int64\n"
     ]
    }
   ],
   "source": [
    "print('SEX 값 분포 : \\n', titanic_df['Sex'].value_counts())\n",
    "print('\\nCabin 값 분포 : \\n', titanic_df['Cabin'].value_counts())\n",
    "print('\\nEmbarked 값 분포 : \\n', titanic_df['Embarked'].value_counts())"
   ]
  },
  {
   "cell_type": "code",
   "execution_count": 7,
   "id": "d9d45b5f",
   "metadata": {},
   "outputs": [
    {
     "data": {
      "text/plain": [
       "0    NaN\n",
       "1      C\n",
       "2    NaN\n",
       "3      C\n",
       "4    NaN\n",
       "Name: Cabin, dtype: object"
      ]
     },
     "metadata": {},
     "output_type": "display_data"
    }
   ],
   "source": [
    "# Cabin column 앞 글자만 추출\n",
    "titanic_df['Cabin'] = titanic_df['Cabin'].str[:1]\n",
    "display(titanic_df['Cabin'].head())"
   ]
  },
  {
   "cell_type": "markdown",
   "id": "75a1613e",
   "metadata": {},
   "source": [
    "### - 머신러닝 학습, 예측 전에 데이터 특성 파악하기\n",
    "- 어떤 승객이 생존확률이 높을까?\n",
    "    - 우선 구조 대상 (Women and children first) 그 다음 부자나 유명인이 구조 대상이었을 것\n",
    "    - 삼등실에 탄 가난한 사람들은 많이 사망했을 것임."
   ]
  },
  {
   "cell_type": "code",
   "execution_count": 8,
   "id": "fa9d04eb",
   "metadata": {},
   "outputs": [
    {
     "name": "stdout",
     "output_type": "stream",
     "text": [
      "Sex     Survived\n",
      "female  0            81\n",
      "        1           233\n",
      "male    0           468\n",
      "        1           109\n",
      "Name: Survived, dtype: int64\n"
     ]
    },
    {
     "data": {
      "text/plain": [
       "<Axes: xlabel='Sex', ylabel='Survived'>"
      ]
     },
     "execution_count": 8,
     "metadata": {},
     "output_type": "execute_result"
    },
    {
     "data": {
      "image/png": "[encoded data removed]",
      "text/plain": [
       "<Figure size 640x480 with 1 Axes>"
      ]
     },
     "metadata": {},
     "output_type": "display_data"
    }
   ],
   "source": [
    "print(titanic_df.groupby(['Sex','Survived'])['Survived'].count())\n",
    "\n",
    "# seaborn 이용해 데이터 시각회\n",
    "# seaborn - dataframe과 쉽게 연동, 많이 쓰인다\n",
    "sns.barplot(x='Sex', y='Survived', data=titanic_df)"
   ]
  },
  {
   "cell_type": "code",
   "execution_count": 9,
   "id": "e9d5837e",
   "metadata": {},
   "outputs": [
    {
     "data": {
      "text/plain": [
       "<Axes: xlabel='Pclass', ylabel='Survived'>"
      ]
     },
     "execution_count": 9,
     "metadata": {},
     "output_type": "execute_result"
    },
    {
     "data": {
      "image/png": "[encoded data removed]",
      "text/plain": [
       "<Figure size 640x480 with 1 Axes>"
      ]
     },
     "metadata": {},
     "output_type": "display_data"
    }
   ],
   "source": [
    "sns.barplot(x='Pclass',y='Survived', hue='Sex', data=titanic_df)"
   ]
  },
  {
   "cell_type": "markdown",
   "id": "13ad8032",
   "metadata": {},
   "source": [
    "### Age에 따른 category 분류 하기\n",
    "- 0~5 : Baby\n",
    "- 6~12 : Child\n",
    "- 13~18 : Teenager\n",
    "- 19~25 : Student\n",
    "- 26~35 : Young Adult\n",
    "- 36~60 : Adult\n",
    "- 61 ~ : Elderly\n",
    "- ~ -1 : Unknown"
   ]
  },
  {
   "cell_type": "code",
   "execution_count": 10,
   "id": "df448006",
   "metadata": {},
   "outputs": [
    {
     "data": {
      "image/png": "[encoded data removed]",
      "text/plain": [
       "<Figure size 1000x600 with 1 Axes>"
      ]
     },
     "metadata": {},
     "output_type": "display_data"
    }
   ],
   "source": [
    "def get_category(age):\n",
    "    cat = ''\n",
    "    if age <= -1: cat = \"Unknown\"\n",
    "    elif age <= 5: cat = \"Baby\"\n",
    "    elif age <= 12: cat = \"Child\"\n",
    "    elif age <= 18: cat = \"Teenager\"\n",
    "    elif age <= 25: cat = \"Student\"\n",
    "    elif age <= 35: cat = \"Young Adult\"\n",
    "    elif age <= 60: cat = \"Adult\"\n",
    "    else: cat = \"Elderly\"\n",
    "\n",
    "    return cat\n",
    "\n",
    "plt.figure(figsize=(10,6))\n",
    "\n",
    "group_names = ['Unknown', 'Baby','Child', 'Teenager', 'Student', 'Young Adult', 'Adult', 'Elderly']\n",
    "titanic_df['Age_cat'] = titanic_df['Age'].apply(lambda x : get_category(x))\n",
    "sns.barplot(x='Age_cat', y='Survived', hue='Sex', data=titanic_df, order=group_names)\n",
    "titanic_df.drop(['Age_cat'], axis=1, inplace=True)\n"
   ]
  },
  {
   "cell_type": "markdown",
   "id": "e4f49a47",
   "metadata": {},
   "source": [
    "### 문자열 피처 인코딩하기 -> LabelEncoder class 이용\n",
    "- 문자열은 그대로 학습에 이용할 수 없기 때문에 인코딩이 필요하다"
   ]
  },
  {
   "cell_type": "code",
   "execution_count": 11,
   "id": "6a0b6817",
   "metadata": {},
   "outputs": [
    {
     "data": {
      "text/html": [
       "<div>\n",
       "<style scoped>\n",
       "    .dataframe tbody tr th:only-of-type {\n",
       "        vertical-align: middle;\n",
       "    }\n",
       "\n",
       "    .dataframe tbody tr th {\n",
       "        vertical-align: top;\n",
       "    }\n",
       "\n",
       "    .dataframe thead th {\n",
       "        text-align: right;\n",
       "    }\n",
       "</style>\n",
       "<table border=\"1\" class=\"dataframe\">\n",
       "  <thead>\n",
       "    <tr style=\"text-align: right;\">\n",
       "      <th></th>\n",
       "      <th>PassengerId</th>\n",
       "      <th>Survived</th>\n",
       "      <th>Pclass</th>\n",
       "      <th>Name</th>\n",
       "      <th>Sex</th>\n",
       "      <th>Age</th>\n",
       "      <th>SibSp</th>\n",
       "      <th>Parch</th>\n",
       "      <th>Ticket</th>\n",
       "      <th>Fare</th>\n",
       "      <th>Cabin</th>\n",
       "      <th>Embarked</th>\n",
       "    </tr>\n",
       "  </thead>\n",
       "  <tbody>\n",
       "    <tr>\n",
       "      <th>0</th>\n",
       "      <td>1</td>\n",
       "      <td>0</td>\n",
       "      <td>3</td>\n",
       "      <td>Braund, Mr. Owen Harris</td>\n",
       "      <td>1</td>\n",
       "      <td>22.0</td>\n",
       "      <td>1</td>\n",
       "      <td>0</td>\n",
       "      <td>A/5 21171</td>\n",
       "      <td>7.2500</td>\n",
       "      <td>8</td>\n",
       "      <td>2</td>\n",
       "    </tr>\n",
       "    <tr>\n",
       "      <th>1</th>\n",
       "      <td>2</td>\n",
       "      <td>1</td>\n",
       "      <td>1</td>\n",
       "      <td>Cumings, Mrs. John Bradley (Florence Briggs Th...</td>\n",
       "      <td>0</td>\n",
       "      <td>38.0</td>\n",
       "      <td>1</td>\n",
       "      <td>0</td>\n",
       "      <td>PC 17599</td>\n",
       "      <td>71.2833</td>\n",
       "      <td>2</td>\n",
       "      <td>0</td>\n",
       "    </tr>\n",
       "    <tr>\n",
       "      <th>2</th>\n",
       "      <td>3</td>\n",
       "      <td>1</td>\n",
       "      <td>3</td>\n",
       "      <td>Heikkinen, Miss. Laina</td>\n",
       "      <td>0</td>\n",
       "      <td>26.0</td>\n",
       "      <td>0</td>\n",
       "      <td>0</td>\n",
       "      <td>STON/O2. 3101282</td>\n",
       "      <td>7.9250</td>\n",
       "      <td>8</td>\n",
       "      <td>2</td>\n",
       "    </tr>\n",
       "    <tr>\n",
       "      <th>3</th>\n",
       "      <td>4</td>\n",
       "      <td>1</td>\n",
       "      <td>1</td>\n",
       "      <td>Futrelle, Mrs. Jacques Heath (Lily May Peel)</td>\n",
       "      <td>0</td>\n",
       "      <td>35.0</td>\n",
       "      <td>1</td>\n",
       "      <td>0</td>\n",
       "      <td>113803</td>\n",
       "      <td>53.1000</td>\n",
       "      <td>2</td>\n",
       "      <td>2</td>\n",
       "    </tr>\n",
       "    <tr>\n",
       "      <th>4</th>\n",
       "      <td>5</td>\n",
       "      <td>0</td>\n",
       "      <td>3</td>\n",
       "      <td>Allen, Mr. William Henry</td>\n",
       "      <td>1</td>\n",
       "      <td>35.0</td>\n",
       "      <td>0</td>\n",
       "      <td>0</td>\n",
       "      <td>373450</td>\n",
       "      <td>8.0500</td>\n",
       "      <td>8</td>\n",
       "      <td>2</td>\n",
       "    </tr>\n",
       "  </tbody>\n",
       "</table>\n",
       "</div>"
      ],
      "text/plain": [
       "   PassengerId  Survived  Pclass  \\\n",
       "0            1         0       3   \n",
       "1            2         1       1   \n",
       "2            3         1       3   \n",
       "3            4         1       1   \n",
       "4            5         0       3   \n",
       "\n",
       "                                                Name  Sex   Age  SibSp  Parch  \\\n",
       "0                            Braund, Mr. Owen Harris    1  22.0      1      0   \n",
       "1  Cumings, Mrs. John Bradley (Florence Briggs Th...    0  38.0      1      0   \n",
       "2                             Heikkinen, Miss. Laina    0  26.0      0      0   \n",
       "3       Futrelle, Mrs. Jacques Heath (Lily May Peel)    0  35.0      1      0   \n",
       "4                           Allen, Mr. William Henry    1  35.0      0      0   \n",
       "\n",
       "             Ticket     Fare  Cabin  Embarked  \n",
       "0         A/5 21171   7.2500      8         2  \n",
       "1          PC 17599  71.2833      2         0  \n",
       "2  STON/O2. 3101282   7.9250      8         2  \n",
       "3            113803  53.1000      2         2  \n",
       "4            373450   8.0500      8         2  "
      ]
     },
     "metadata": {},
     "output_type": "display_data"
    }
   ],
   "source": [
    "from sklearn import preprocessing\n",
    "\n",
    "def encode_features(dataDF):\n",
    "    features = ['Cabin', 'Sex', 'Embarked']\n",
    "    for feature in features:\n",
    "        le = preprocessing.LabelEncoder()\n",
    "        le = le.fit(dataDF[feature])\n",
    "        dataDF[feature] = le.transform(dataDF[feature])\n",
    "\n",
    "    return dataDF \n",
    "\n",
    "titanic_df = encode_features(titanic_df)\n",
    "display(titanic_df.head())"
   ]
  },
  {
   "cell_type": "markdown",
   "id": "fe3c4b06",
   "metadata": {},
   "source": [
    "### - 전체 preprocessing 함수로 만들기\n",
    "- 전체 파이프라인 호출 함수 transform_features()"
   ]
  },
  {
   "cell_type": "code",
   "execution_count": 12,
   "id": "1ac94e45",
   "metadata": {},
   "outputs": [],
   "source": [
    "# NUll 처리 함수\n",
    "def fillna(df):\n",
    "    df['Age'] = df['Age'].fillna(df['Age'].mean())\n",
    "    df['Cabin'] =df['Cabin'].fillna('N')\n",
    "    df['Embarked'] = df['Embarked'].fillna('N')\n",
    "    df['Fare'] = df['Fare'].fillna(0)\n",
    "    return df\n",
    "\n",
    "# 머신러닝 알고리즘에 불필요한 속성 제거\n",
    "def drop_features(df):\n",
    "    df.drop(['PassengerId', 'Name', 'Ticket'], axis=1, inplace=True)\n",
    "    return df\n",
    "\n",
    "# 레이블 인코딩 실행\n",
    "def format_features(df):\n",
    "    df['Cabin'] = df['Cabin'].str[:1]\n",
    "    features = ['Cabin', 'Sex', 'Embarked']\n",
    "    for feature in features:\n",
    "        le = preprocessing.LabelEncoder()\n",
    "        le = le.fit(df[feature])\n",
    "        df[feature] = le.transform(df[feature])\n",
    "\n",
    "    return df \n",
    "\n",
    "# 전체 파이프라인 호출 함수\n",
    "def transform_features(df):\n",
    "    df = fillna(df)\n",
    "    df = drop_features(df)\n",
    "    df = format_features(df)\n",
    "    return df\n",
    "    "
   ]
  },
  {
   "cell_type": "markdown",
   "id": "e8ec380d",
   "metadata": {},
   "source": [
    "### - 데이터 로드 및 전처리 실행, 피처 - 레이블 데이터 셋 추출"
   ]
  },
  {
   "cell_type": "code",
   "execution_count": 13,
   "id": "c87a9e9d",
   "metadata": {},
   "outputs": [],
   "source": [
    "titanic_df = pd.read_csv('./data/train.csv')\n",
    "y_titanic_df = titanic_df['Survived']\n",
    "X_titanic_df = titanic_df.drop(['Survived'],axis=1)\n",
    "\n",
    "X_titanic_df = transform_features(X_titanic_df)"
   ]
  },
  {
   "cell_type": "markdown",
   "id": "73fb7aa1",
   "metadata": {},
   "source": [
    "### - Data split (train , test)"
   ]
  },
  {
   "cell_type": "code",
   "execution_count": 14,
   "id": "55f9eefe",
   "metadata": {},
   "outputs": [
    {
     "name": "stdout",
     "output_type": "stream",
     "text": [
      "Pclass      0\n",
      "Sex         0\n",
      "Age         0\n",
      "SibSp       0\n",
      "Parch       0\n",
      "Fare        0\n",
      "Cabin       0\n",
      "Embarked    0\n",
      "dtype: int64\n"
     ]
    }
   ],
   "source": [
    "# data split (train, test)\n",
    "from sklearn.model_selection import train_test_split\n",
    "\n",
    "X_train, X_test, y_train, y_test = train_test_split(X_titanic_df, y_titanic_df, test_size= 0.2, random_state=11)\n",
    "print(X_train.isnull().sum())"
   ]
  },
  {
   "cell_type": "markdown",
   "id": "0bbb8db4",
   "metadata": {},
   "source": [
    "### - ML 알고리즘 (결정트리, 랜덤 포레스트, 로지스틱 회귀)을 이용해 타이타닉 생존자 예측"
   ]
  },
  {
   "cell_type": "code",
   "execution_count": 15,
   "id": "cf085c72",
   "metadata": {},
   "outputs": [
    {
     "name": "stdout",
     "output_type": "stream",
     "text": [
      "DecisionTreeClassifier Accuracy : 0.7877\n",
      "RandomForestClassifier Accuracy : 0.8547\n",
      "LogisticRegression Accuracy : 0.8492\n"
     ]
    }
   ],
   "source": [
    "from sklearn.tree import DecisionTreeClassifier\n",
    "from sklearn.ensemble import RandomForestClassifier\n",
    "from sklearn.linear_model import LogisticRegression\n",
    "from sklearn.metrics import accuracy_score\n",
    "\n",
    "# 1. class 생성\n",
    "dt_clf = DecisionTreeClassifier(random_state=11)\n",
    "rf_clf = RandomForestClassifier(random_state=11)\n",
    "lr_clf = LogisticRegression(max_iter=1000)\n",
    "\n",
    "# 2. 각각 학습 / 예측 / 평가\n",
    "dt_clf.fit(X_train, y_train)\n",
    "dt_pred = dt_clf.predict(X_test)\n",
    "print(\"DecisionTreeClassifier Accuracy : {0:.4f}\".format(accuracy_score(y_test, dt_pred)))\n",
    "\n",
    "rf_clf.fit(X_train, y_train)\n",
    "rf_pred = rf_clf.predict(X_test)\n",
    "print(\"RandomForestClassifier Accuracy : {0:.4f}\".format(accuracy_score(y_test, rf_pred)))\n",
    "\n",
    "lr_clf.fit(X_train, y_train)\n",
    "lr_pred = lr_clf.predict(X_test)\n",
    "print(\"LogisticRegression Accuracy : {0:.4f}\".format(accuracy_score(y_test, lr_pred)))"
   ]
  },
  {
   "cell_type": "markdown",
   "id": "5e5c0410",
   "metadata": {},
   "source": [
    "### - 최적 알고리즘을 찾기 위해 교차검증으로 평가해보기\n",
    "1. KFold\n",
    "2. cross_val_score\n",
    "3. GridSearchCV"
   ]
  },
  {
   "cell_type": "code",
   "execution_count": 16,
   "id": "f4cd27d1",
   "metadata": {},
   "outputs": [
    {
     "name": "stdout",
     "output_type": "stream",
     "text": [
      "교차검증 0 정확도: 0.7542\n",
      "교차검증 1 정확도: 0.7809\n",
      "교차검증 2 정확도: 0.7865\n",
      "교차검증 3 정확도: 0.7697\n",
      "교차검증 4 정확도: 0.8202\n",
      "평균 정확도: 0.7823\n"
     ]
    }
   ],
   "source": [
    "# 1. KFold\n",
    "from sklearn.model_selection import KFold\n",
    "\n",
    "def exec_kfold(clf, folds=5):\n",
    "    # 폴드 세트 = 5, 객체 생성\n",
    "    kfold = KFold(n_splits=5)\n",
    "\n",
    "    scores = []\n",
    "\n",
    "    #KFold 교차검증\n",
    "    for iter_count, (train_index, test_index) in enumerate(kfold.split(X_titanic_df)):\n",
    "        # 학습/검증 index 생성\n",
    "        X_train, X_test = X_titanic_df.values[train_index], X_titanic_df.values[test_index]\n",
    "        y_train, y_test = y_titanic_df.values[train_index], y_titanic_df.values[test_index]\n",
    "        #Classifier 학습, 예측, 정확도 계산\n",
    "        clf.fit(X_train, y_train)\n",
    "        predictions = clf.predict(X_test)\n",
    "        accuracy = accuracy_score(y_test, predictions)\n",
    "        scores.append(accuracy)\n",
    "        print('교차검증 {0} 정확도: {1:.4f}'.format(iter_count, accuracy))\n",
    "\n",
    "    # 평균 score 계산\n",
    "    mean_score = np.mean(scores)\n",
    "    print('평균 정확도: {0:.4f}'.format(mean_score))\n",
    "\n",
    "# 호출\n",
    "exec_kfold(dt_clf, folds=5)\n"
   ]
  },
  {
   "cell_type": "code",
   "execution_count": 17,
   "id": "ff11244d",
   "metadata": {},
   "outputs": [
    {
     "name": "stdout",
     "output_type": "stream",
     "text": [
      "교차검증 0 정확도: 0.7430\n",
      "교차검증 1 정확도: 0.7753\n",
      "교차검증 2 정확도: 0.7921\n",
      "교차검증 3 정확도: 0.7865\n",
      "교차검증 4 정확도: 0.8427\n",
      "평균 정확도: 0.7879\n"
     ]
    }
   ],
   "source": [
    "# 2. cross_val_score \n",
    "from sklearn.model_selection import cross_val_score\n",
    "\n",
    "scores = cross_val_score(dt_clf, X_titanic_df, y_titanic_df, cv=5)\n",
    "for iter_count, accuracy in enumerate(scores):\n",
    "    print('교차검증 {0} 정확도: {1:.4f}'.format(iter_count, accuracy))\n",
    "\n",
    "print('평균 정확도: {0:.4f}'.format(np.mean(scores)))"
   ]
  },
  {
   "cell_type": "markdown",
   "id": "9dc38010",
   "metadata": {},
   "source": [
    "- 위의 두 정확도가 다른 이유 : cross_val_score가 StratifiedKFold를 이용해 폴드 세트를 분할하기 때문"
   ]
  },
  {
   "cell_type": "code",
   "execution_count": 18,
   "id": "13d046a9",
   "metadata": {},
   "outputs": [
    {
     "name": "stdout",
     "output_type": "stream",
     "text": [
      "GridSearchCV 최적 하이퍼 파라미터: {'max_depth': 3, 'min_samples_leaf': 5, 'min_samples_split': 2}\n",
      "GridSearchCV 최고 정확도:{0:.4f} 0.7991825076332119\n",
      "테스트 세트에서의 DecisionTreeClassifier 정확도 : 0.8715\n"
     ]
    }
   ],
   "source": [
    "# 3. GridSearchCV\n",
    "from sklearn.model_selection import GridSearchCV\n",
    "\n",
    "parameters = {'max_depth':[2, 3, 5, 10],\n",
    "              'min_samples_split':[2, 3, 5],\n",
    "              'min_samples_leaf': [1, 5, 8]}\n",
    "\n",
    "grid_dclf = GridSearchCV(dt_clf, param_grid=parameters, scoring='accuracy',cv=5)\n",
    "grid_dclf.fit(X_train, y_train)\n",
    "\n",
    "print('GridSearchCV 최적 하이퍼 파라미터:', grid_dclf.best_params_)\n",
    "print('GridSearchCV 최고 정확도:{0:.4f}', grid_dclf.best_score_)\n",
    "best_dclf = grid_dclf.best_estimator_\n",
    "\n",
    "# GridSearchCV의 최적 하이퍼 파라미터로 학습된 Estimator로 예측 수행\n",
    "dpredictions = best_dclf.predict(X_test)\n",
    "accuracy = accuracy_score(y_test, dpredictions)\n",
    "print('테스트 세트에서의 DecisionTreeClassifier 정확도 : {0:.4f}'.format(accuracy))"
   ]
  },
  {
   "cell_type": "markdown",
   "id": "4c04abb0",
   "metadata": {},
   "source": [
    "## <정리>\n",
    "- 사이킷런은 매우 많은 머신러닝 알고리즘을 제공할 뿐만 아니라, 쉽고 직관적인 API 프레임워크, 편리하고, 다양한 모듈을 자원함\n",
    "- 머신러닝 애플리케이션은 데이터의 가공 및 변환 과정의 전처리 작업, 데이터르 학습 데이터와 테스트 데이터로 분리하는 데이터 세트 분리 작업을 거친 후에 학습 데이터를 기반으로 머신러닝 알고리즘을 적용해 모델을 학습함.\n",
    "- 학습된 모델을 기반으로 예측을 수행하고 실제 결과값과 비교해 성능을 평가함\n",
    "- 데이터 전처리 작업\n",
    "    1. 오류데이터 보정\n",
    "    2. 결손값(Null) 처리 등의 데이터 클렌징 작업\n",
    "    3. 인코딩\n",
    "    4. 데이터 스케일링/정규화\n",
    "- 머신러닝 모델은 학습 데이터 세트로 학습한 뒤 반드시 별도의 테스트 데이터 세트로 평가되어야 한다.\n",
    "- 테스트 데이터의 건수 부족이나 고정된 테스트 데이터를 이용한 평가는 해당 세트에만 치우친 빈약한 머신러닝 모델을 만들 가능성이 높음\n",
    "    - 이를 해결하기 위해 여러 개의 폴드 세트를 구성하는 교차 검증을 수행한다. (KFold, StratifiedKFold, cross_val_score)\n",
    "    - 또한 최적의 하이퍼 파라미터를 교차 검증을 통해 추출하기 위해 GridSearchCV를 제공함."
   ]
  },
  {
   "cell_type": "markdown",
   "id": "3951f5ab",
   "metadata": {},
   "source": [
    "## 3. 평가\n",
    "-> 머신러닝은 데이터가공/변환, 모델 학습/예측, 그리고 평가(Evaluation)의 프로세스로 구성된다.\n",
    "\n",
    "### <분류의 성능 평가 지표>\n",
    "-> 일반적으로는 실제 결과 데이터와 예측 결과 데이터가 얼마나 정확하고 오류가 적게 발생하는가에 기반하지만, 단순히 이러한 정확도만 가지고 판단했다가는 잘못된 평가 결과에 빠질 수 있어 주의가 필요하다.\n",
    "\n",
    "1. 정확도(Accuracy)\n",
    "2. 오차행렬(Confusion Matrix)\n",
    "3. 정밀도(Precision)\n",
    "4. 재현율(Recall)\n",
    "5. F1 스코어\n",
    "6. ROC AUC\n",
    " "
   ]
  },
  {
   "cell_type": "markdown",
   "id": "bab1c727",
   "metadata": {},
   "source": []
  },
  {
   "cell_type": "markdown",
   "id": "f7444d20",
   "metadata": {},
   "source": [
    "### 3.1. 정확도(Accuracy) = 예측 결과가 동일한 데이터 건수 / 전체 예측 데이터 건수\n",
    "\n",
    "- 정확도는 직관적으로 모델 예측 성능을 나타낼 수 있는 평가 지표임.\n",
    "- 하지만 이 수치 하나만 가지고 성능을 평가할 경우 ML모델의 성능을 왜곡할 위험이 있음.\n",
    "- 앞의 타이타닉 예제 수행 결과를 보면 ML알고리즘을 적용한 후 예측 정확도가 80%대였지만, 탑승객이 남자인 경우보다 여자인 경우에 생존확률이 높았기 때문에 별다른 알고리즘의 적용 없이 무조건 성별이 여자인 경우 생존으로, 남자인 경우 사망으로 예측해도 이와 비슷한 수치가 나올 수 있다."
   ]
  },
  {
   "cell_type": "code",
   "execution_count": 19,
   "id": "13b9fa5d",
   "metadata": {},
   "outputs": [],
   "source": [
    "# Sex 피처가 1이면 0, 그렇지 않으면 1로 예측하는 단순한 Classifier Model\n",
    "from sklearn.base import BaseEstimator\n",
    "\n",
    "class MyDummyClassifier(BaseEstimator):\n",
    "    # fit 메서드는 아무것도 학습하지 않음.\n",
    "    def fit(self, X, y=None):\n",
    "        pass\n",
    "    # predict 메서드는 Sex 피처가 1이면 0, 그렇지 않으면 1로 예측\n",
    "    def predict(self, X):\n",
    "        pred = np.zeros((X.shape[0],1))\n",
    "        for i in range(X.shape[0]):\n",
    "            if X['Sex'].iloc[i] == 1 :\n",
    "                pred[i] = 0\n",
    "            else : \n",
    "                pred[i] = 1\n",
    "\n",
    "        return pred"
   ]
  },
  {
   "cell_type": "markdown",
   "id": "6adaeae0",
   "metadata": {},
   "source": [
    "#### <예측>"
   ]
  },
  {
   "cell_type": "code",
   "execution_count": 20,
   "id": "110f9c05",
   "metadata": {},
   "outputs": [
    {
     "name": "stdout",
     "output_type": "stream",
     "text": [
      "Simple Classifier Accuracy : 0.8324\n"
     ]
    }
   ],
   "source": [
    "import pandas as pd\n",
    "from sklearn.model_selection import train_test_split\n",
    "from sklearn.metrics import accuracy_score\n",
    "\n",
    "titanic_df = pd.read_csv('./data/train.csv')\n",
    "y_titanic_df = titanic_df['Survived']\n",
    "X_titanic_df = titanic_df.drop('Survived',axis=1)\n",
    "X_titanic_df = transform_features(X_titanic_df)\n",
    "X_train, X_test, y_train, y_test = train_test_split(X_titanic_df,y_titanic_df, test_size=0.2, random_state=11)\n",
    "\n",
    "simple_clf = MyDummyClassifier()\n",
    "simple_clf.fit(X_train, y_train)\n",
    "simple_pred = simple_clf.predict(X_test)\n",
    "accuracy = accuracy_score(y_test, simple_pred)\n",
    "print(\"Simple Classifier Accuracy : {0:.4f}\".format(accuracy))"
   ]
  },
  {
   "cell_type": "markdown",
   "id": "bcf2ce2f",
   "metadata": {},
   "source": [
    "- 이렇게 단순한 알고리즘으로 예측했는데도 정확도가 약 83%가 나왔다.\n",
    "- 특히 정확도는 불균형(Imbalanced)한 레이블 값 분포애서 ML모델의 성능을 판단할 경우, 적합한 평가 지표가 아니다. 예를 들어 100개의 데이터가 있고 이 중에 90개의 데이터 레이블이 0, 단 10개의 데이터 레이블이 1이라고 한다면 무조건 0으로 예측 결과를 반환하는 ML모델의 경우라도 정확도가 90%가 나오게 된다."
   ]
  },
  {
   "cell_type": "markdown",
   "id": "66efa2dd",
   "metadata": {},
   "source": [
    "#### -> 데이터 분포가 균일하지 않은 경우 정확도 지표 확인해보자."
   ]
  },
  {
   "cell_type": "code",
   "execution_count": 21,
   "id": "f95046fc",
   "metadata": {},
   "outputs": [
    {
     "name": "stdout",
     "output_type": "stream",
     "text": [
      "[[ 0.  0.  5. ...  0.  0.  0.]\n",
      " [ 0.  0.  0. ... 10.  0.  0.]\n",
      " [ 0.  0.  0. ... 16.  9.  0.]\n",
      " ...\n",
      " [ 0.  0.  1. ...  6.  0.  0.]\n",
      " [ 0.  0.  2. ... 12.  0.  0.]\n",
      " [ 0.  0. 10. ... 12.  1.  0.]]\n",
      "### digits.data.shape: (1797, 64)\n",
      "[0 1 2 ... 8 9 8]\n",
      "### digits.target.shape: (1797,)\n"
     ]
    }
   ],
   "source": [
    "from sklearn.datasets import load_digits\n",
    "from sklearn.model_selection import train_test_split\n",
    "from sklearn.base import BaseEstimator\n",
    "from sklearn.metrics import accuracy_score\n",
    "import numpy as np\n",
    "import pandas as pd\n",
    "\n",
    "class MyFakeClassifier(BaseEstimator):\n",
    "    def fit(self,X,y):\n",
    "        pass\n",
    "    \n",
    "    # 입력값으로 들어오는 X 데이터 셋의 크기만큼 모두 0값으로 만들어서 반환\n",
    "    def predict(self,X):\n",
    "        return np.zeros( (len(X), 1) , dtype=bool)\n",
    "\n",
    "# 사이킷런의 내장 데이터 셋인 load_digits( )를 이용하여 MNIST 데이터 로딩\n",
    "digits = load_digits()\n",
    "\n",
    "print(digits.data)\n",
    "print(\"### digits.data.shape:\", digits.data.shape)\n",
    "print(digits.target)\n",
    "print(\"### digits.target.shape:\", digits.target.shape)"
   ]
  },
  {
   "cell_type": "code",
   "execution_count": 22,
   "id": "0978b01a",
   "metadata": {},
   "outputs": [],
   "source": [
    "# digits번호가 7번이면 True이고 이를 astype(int)로 1로 변환, 7번이 아니면 False이고 0으로 변환. \n",
    "y = (digits.target == 7).astype(int)\n",
    "X_train, X_test, y_train, y_test = train_test_split( digits.data, y, random_state=11)"
   ]
  },
  {
   "cell_type": "code",
   "execution_count": 23,
   "id": "2243e082",
   "metadata": {},
   "outputs": [
    {
     "name": "stdout",
     "output_type": "stream",
     "text": [
      "레이블 테스트 세트 크기 : (450,)\n",
      "테스트 세트 레이블 0 과 1의 분포도\n",
      "0    405\n",
      "1     45\n",
      "Name: count, dtype: int64\n",
      "모든 예측을 0으로 하여도 정확도는:0.900\n"
     ]
    }
   ],
   "source": [
    "# 불균형한 레이블 데이터 분포도 확인. \n",
    "print('레이블 테스트 세트 크기 :', y_test.shape)\n",
    "print('테스트 세트 레이블 0 과 1의 분포도')\n",
    "print(pd.Series(y_test).value_counts())\n",
    "\n",
    "# Dummy Classifier로 학습/예측/정확도 평가\n",
    "fakeclf = MyFakeClassifier()\n",
    "fakeclf.fit(X_train , y_train)\n",
    "fakepred = fakeclf.predict(X_test)\n",
    "print('모든 예측을 0으로 하여도 정확도는:{:.3f}'.format(accuracy_score(y_test , fakepred)))"
   ]
  },
  {
   "cell_type": "markdown",
   "id": "808c0438",
   "metadata": {},
   "source": [
    "### 3.2. 오차 행렬 (Confusion Matrix)\n",
    "#### -> 학습된 분류 모델이 예측을 수행하면서 얼마나 헷갈리고(confused) 있는지도 함께 보여주는 지표"
   ]
  },
  {
   "cell_type": "markdown",
   "id": "fc6b499e",
   "metadata": {},
   "source": [
    "|Confusion Matrix|Negative(0) - Predict|Positive(1) - Predict|\n",
    "|------------------|----------|---------|\n",
    "|Negative(0) - Actual|TN(True Negative)|FP(False Positive)|\n",
    "|Positive(1) - Actual|FN(False Negative)|TP(True Positive)|"
   ]
  },
  {
   "cell_type": "markdown",
   "id": "62558c73",
   "metadata": {},
   "source": [
    "- 사이킷런은 오차 행렬을 구하기 위해 confusion_matrix() API를 제공한다."
   ]
  },
  {
   "cell_type": "code",
   "execution_count": 24,
   "id": "6043bcd7",
   "metadata": {},
   "outputs": [
    {
     "data": {
      "text/plain": [
       "array([[405,   0],\n",
       "       [ 45,   0]])"
      ]
     },
     "execution_count": 24,
     "metadata": {},
     "output_type": "execute_result"
    }
   ],
   "source": [
    "from sklearn.metrics import confusion_matrix\n",
    "\n",
    "# 앞절의 예측 결과인 fakepred와 실제 결과인 y_test의 Confusion Matrix출력\n",
    "confusion_matrix(y_test , fakepred)"
   ]
  },
  {
   "cell_type": "markdown",
   "id": "93769acb",
   "metadata": {},
   "source": [
    "- 출력된 오차행렬은 ndarray 형태임, 이진 분류의 TN,FP,FN,FP는 상단 도표와 동일한 위치를 가지고 array에서 가져올 수 있다.\n",
    "- TN = 405, FP = 0, FN = 45, TP = 0\n",
    "#### 정확도 = 예측 결과와 실제 값이 동일한 건수/전체 데이터 수 = (TN + TP) / (TN + FP + FN + TP)"
   ]
  },
  {
   "cell_type": "markdown",
   "id": "409b382d",
   "metadata": {},
   "source": [
    "### 3.3. 정밀도와 재현율\n",
    "- 정밀도 = TP / (FP + TP)\n",
    "- 재현율 = TP / (FN + TP)\n",
    "- 재현율이 중요 지표인 경우는 실제 Positive 양성 데이터를 Negetive로 잘못 판단하게 되면 업무상 큰 영향이 발생하는 경우.\n",
    "- 정밀도가 상대적으로 더 중요한 지표인 경우는 그 반대"
   ]
  },
  {
   "cell_type": "code",
   "execution_count": 25,
   "id": "4c64857f",
   "metadata": {},
   "outputs": [],
   "source": [
    "# 오차행렬, 정확도, 정밀도, 재현율을 한꺼번에 계산하는 함수 생성\n",
    "from sklearn.metrics import accuracy_score, precision_score , recall_score , confusion_matrix\n",
    "\n",
    "def get_clf_eval(y_test , pred):\n",
    "    confusion = confusion_matrix( y_test, pred)\n",
    "    accuracy = accuracy_score(y_test , pred)\n",
    "    precision = precision_score(y_test , pred)\n",
    "    recall = recall_score(y_test , pred)\n",
    "    print('오차 행렬')\n",
    "    print(confusion)\n",
    "    print('정확도: {0:.4f}, 정밀도: {1:.4f}, 재현율: {2:.4f}'.format(accuracy , precision ,recall))"
   ]
  },
  {
   "cell_type": "code",
   "execution_count": 26,
   "id": "d0a4839e",
   "metadata": {},
   "outputs": [
    {
     "name": "stdout",
     "output_type": "stream",
     "text": [
      "오차 행렬\n",
      "[[108  10]\n",
      " [ 14  47]]\n",
      "정확도: 0.8659, 정밀도: 0.8246, 재현율: 0.7705\n"
     ]
    }
   ],
   "source": [
    "import numpy as np\n",
    "import pandas as pd\n",
    "\n",
    "from sklearn.model_selection import train_test_split \n",
    "from sklearn.linear_model import LogisticRegression\n",
    "\n",
    "# 원본 데이터를 재로딩, 데이터 가공, 학습데이터/테스트 데이터 분할. \n",
    "titanic_df = pd.read_csv('./data/train.csv')\n",
    "y_titanic_df = titanic_df['Survived']\n",
    "X_titanic_df= titanic_df.drop('Survived', axis=1)\n",
    "X_titanic_df = transform_features(X_titanic_df)\n",
    "\n",
    "X_train, X_test, y_train, y_test = train_test_split(X_titanic_df, y_titanic_df, \\\n",
    "                                                    test_size=0.20, random_state=11)\n",
    "\n",
    "lr_clf = LogisticRegression(solver='liblinear')\n",
    "\n",
    "lr_clf.fit(X_train , y_train)\n",
    "pred = lr_clf.predict(X_test)\n",
    "get_clf_eval(y_test , pred)"
   ]
  },
  {
   "cell_type": "markdown",
   "id": "35178b93",
   "metadata": {},
   "source": [
    "#### <정밀도와 재현율 트레이드오프>\n",
    "- 분류하려는 업무의 특성상 정밀도 또는 재현율이 특별히 강조돼야 할 경우 분류의 결정 임계값(Threshold)을 조정해 정밀도 또는 재현율의 수치를 높일 수 있다.\n",
    "- 사이킷런은 개별 데이터별로 예측 확률을 반환하는 메서드인 predict_proba()를 제공한다."
   ]
  },
  {
   "cell_type": "code",
   "execution_count": 27,
   "id": "279035f1",
   "metadata": {},
   "outputs": [
    {
     "name": "stdout",
     "output_type": "stream",
     "text": [
      "pred_proba()결과 Shape : (179, 2)\n",
      "pred_proba array에서 앞 3개만 샘플로 추출 \n",
      ": [[0.44935225 0.55064775]\n",
      " [0.86335511 0.13664489]\n",
      " [0.86429643 0.13570357]]\n",
      "두개의 class 중에서 더 큰 확률을 클래스 값으로 예측 \n",
      " [[0.44935225 0.55064775 1.        ]\n",
      " [0.86335511 0.13664489 0.        ]\n",
      " [0.86429643 0.13570357 0.        ]]\n"
     ]
    }
   ],
   "source": [
    "# predict_proba( ) 메소드 확인\n",
    "pred_proba = lr_clf.predict_proba(X_test)\n",
    "pred  = lr_clf.predict(X_test)\n",
    "print('pred_proba()결과 Shape : {0}'.format(pred_proba.shape))\n",
    "print('pred_proba array에서 앞 3개만 샘플로 추출 \\n:', pred_proba[:3])\n",
    "\n",
    "# 예측 확률 array 와 예측 결과값 array 를 concatenate 하여 예측 확률과 결과값을 한눈에 확인\n",
    "pred_proba_result = np.concatenate([pred_proba , pred.reshape(-1,1)],axis=1)\n",
    "print('두개의 class 중에서 더 큰 확률을 클래스 값으로 예측 \\n',pred_proba_result[:3])"
   ]
  },
  {
   "cell_type": "code",
   "execution_count": 28,
   "id": "71d4bcb5",
   "metadata": {},
   "outputs": [
    {
     "name": "stdout",
     "output_type": "stream",
     "text": [
      "[[0. 0. 1.]\n",
      " [1. 0. 0.]\n",
      " [0. 0. 1.]]\n"
     ]
    }
   ],
   "source": [
    "from sklearn.preprocessing import Binarizer\n",
    "\n",
    "X = [[ 1, -1,  2],\n",
    "     [ 2,  0,  0],\n",
    "     [ 0,  1.1, 1.2]]\n",
    "\n",
    "# threshold 기준값보다 같거나 작으면 0을, 크면 1을 반환\n",
    "binarizer = Binarizer(threshold=1.1)                     \n",
    "print(binarizer.fit_transform(X))"
   ]
  },
  {
   "cell_type": "code",
   "execution_count": 31,
   "id": "d7f82f3a",
   "metadata": {},
   "outputs": [
    {
     "name": "stdout",
     "output_type": "stream",
     "text": [
      "오차 행렬\n",
      "[[108  10]\n",
      " [ 14  47]]\n",
      "정확도: 0.8659, 정밀도: 0.8246, 재현율: 0.7705\n"
     ]
    }
   ],
   "source": [
    "from sklearn.preprocessing import Binarizer\n",
    "# threshold\n",
    "custom_threshold = 0.5\n",
    "\n",
    "# predict_proba() 반환값의 두 번째 칼럼, 즉 Positive 클래스 칼럼 하나만 추출해 Binarizer를 적용\n",
    "pred_proba_1 = pred_proba[:, 1].reshape(-1, 1)\n",
    "binarizer = Binarizer(threshold=custom_threshold).fit(pred_proba_1)\n",
    "custom_predict = binarizer.transform(pred_proba_1)\n",
    "\n",
    "# 평가\n",
    "get_clf_eval(y_test, custom_predict)"
   ]
  },
  {
   "cell_type": "markdown",
   "id": "c09f1605",
   "metadata": {},
   "source": [
    "- 앞의 예제의 predict()값과 정확히 일치한다 -> predict()가 pred_proba()에 기반함을 알 수 있음.\n",
    "#### -> 그럼 분류 결정 임계값을 낮추면 평가 지표가 어떻게 변할까?"
   ]
  },
  {
   "cell_type": "code",
   "execution_count": 32,
   "id": "8ab6ac78",
   "metadata": {},
   "outputs": [
    {
     "name": "stdout",
     "output_type": "stream",
     "text": [
      "오차 행렬\n",
      "[[97 21]\n",
      " [11 50]]\n",
      "정확도: 0.8212, 정밀도: 0.7042, 재현율: 0.8197\n"
     ]
    }
   ],
   "source": [
    "# threshold   0.5 -> 0.4\n",
    "custom_threshold = 0.4\n",
    "\n",
    "# predict_proba() 반환값의 두 번째 칼럼, 즉 Positive 클래스 칼럼 하나만 추출해 Binarizer를 적용\n",
    "pred_proba_1 = pred_proba[:, 1].reshape(-1, 1)\n",
    "binarizer = Binarizer(threshold=custom_threshold).fit(pred_proba_1)\n",
    "custom_predict = binarizer.transform(pred_proba_1)\n",
    "\n",
    "# 평가\n",
    "get_clf_eval(y_test, custom_predict)"
   ]
  },
  {
   "cell_type": "markdown",
   "id": "5a51444c",
   "metadata": {},
   "source": [
    "- 임계값을 낮추니까 재현율 값이 올라가고 정밀도가 떨어졌다. 이유는?\n",
    "    - threshold 값은 Positive 예측값을 결정하는 확률의 기준이 된다. 0.5 -> 0.4 로 낮출경우 True 값이 많아지게 됨. \n",
    "    - 양성 예측을 많이 하다 보니 실제 양성을 음성으로 예측하는 횟수가 상대적으로 줄어듦.\n",
    "    - TP : 47 -> 50\n",
    "    - FN : 14 -> 11\n",
    "    - 재현율 증가, 정밀도 감소, 정확도 감소\n",
    "#### -> 이번에는 임계값을 0.4부터 0.6까지 0.05씩 증가시켜 보자."
   ]
  },
  {
   "cell_type": "code",
   "execution_count": 38,
   "id": "2c4cba8a",
   "metadata": {},
   "outputs": [
    {
     "name": "stdout",
     "output_type": "stream",
     "text": [
      "threshold : 0.4\n",
      "오차 행렬\n",
      "[[97 21]\n",
      " [11 50]]\n",
      "정확도: 0.8212, 정밀도: 0.7042, 재현율: 0.8197\n",
      "threshold : 0.45\n",
      "오차 행렬\n",
      "[[105  13]\n",
      " [ 13  48]]\n",
      "정확도: 0.8547, 정밀도: 0.7869, 재현율: 0.7869\n",
      "threshold : 0.5\n",
      "오차 행렬\n",
      "[[108  10]\n",
      " [ 14  47]]\n",
      "정확도: 0.8659, 정밀도: 0.8246, 재현율: 0.7705\n",
      "threshold : 0.55\n",
      "오차 행렬\n",
      "[[111   7]\n",
      " [ 16  45]]\n",
      "정확도: 0.8715, 정밀도: 0.8654, 재현율: 0.7377\n",
      "threshold : 0.6\n",
      "오차 행렬\n",
      "[[113   5]\n",
      " [ 17  44]]\n",
      "정확도: 0.8771, 정밀도: 0.8980, 재현율: 0.7213\n"
     ]
    }
   ],
   "source": [
    "# threshold list\n",
    "thresholds = [0.4, 0.45, 0.5, 0.55, 0.6]\n",
    "\n",
    "def get_eval_by_threshold(y_test, pred_proba_c1, thresholds):\n",
    "    for custom_threshold in thresholds:\n",
    "        binarizer = Binarizer(threshold=custom_threshold).fit(pred_proba_c1)\n",
    "        custom_predict = binarizer.transform(pred_proba_c1)\n",
    "        print('threshold : {}'.format(custom_threshold))\n",
    "        get_clf_eval(y_test, custom_predict)\n",
    "\n",
    "get_eval_by_threshold(y_test, pred_proba[:,1].reshape(-1,1), thresholds)\n"
   ]
  },
  {
   "cell_type": "markdown",
   "id": "27fc4e64",
   "metadata": {},
   "source": [
    "- 여러 임계값을 설정해보고 최적 임계값을 찾으면 됨. -> 0.45가 가장 적당해 보인다.\n",
    "- 사이킷런에서는 이와 유사한 precision_recall_curve() API를 제공한다.\n",
    "    - 입력 파라미터  \n",
    "        - y_true : 실제 클래스값 배열 (배열 크기 = [데이터 건수]) \n",
    "        - probas_pred : Positive 칼럼의 예측 확률 배열 (배열 크기 = [데이터 건수]) \n",
    "    - 반환 값\n",
    "        - 정밀도 : 임곗값별 정밀도 값을 배열로 반환\n",
    "        - 재현율 : 임곗값별 재현율 값을 배열로 반환"
   ]
  },
  {
   "cell_type": "markdown",
   "id": "f5954a82",
   "metadata": {},
   "source": [
    "#### Practice - precision_recall_curve()\n",
    "- 일반적으로 0.11 ~ 0.95 정도의 임곗값을 담은 넘파이 ndarray와 이 값에 해당하는 정밀도 및 재현율 값을 담은 ndarray를 반환함.\n",
    "- 반환되는 임곗값이 너무 작은 값 단위로 많이 구성되어 있어 샘플로 10건만 추출하되, 임곗값을 15단계로 추출해 좀 더 큰 값의 임곗값과 그때의 정밀도와 재현율 값을 같이 살펴보자."
   ]
  },
  {
   "cell_type": "code",
   "execution_count": 44,
   "id": "6733f943",
   "metadata": {},
   "outputs": [
    {
     "name": "stdout",
     "output_type": "stream",
     "text": [
      "Shape of returned threshold array : (166,)\n",
      "Index of threshold array: [  0  15  30  45  60  75  90 105 120 135 150 165]\n",
      "sample 10 threshold : [0.02 0.11 0.13 0.14 0.16 0.23 0.32 0.44 0.62 0.69 0.86 0.94]\n",
      "Precisions of sample: [0.341 0.372 0.401 0.44  0.5   0.591 0.692 0.762 0.896 0.938 0.941 1.   ]\n",
      "Recalls of sample: [1.    1.    0.967 0.902 0.902 0.902 0.885 0.787 0.705 0.492 0.262 0.016]\n"
     ]
    }
   ],
   "source": [
    "from sklearn.metrics import precision_recall_curve\n",
    "\n",
    "# label = 1 일때 예측 확률\n",
    "pred_proba_class1 = lr_clf.predict_proba(X_test)[:,1]\n",
    "\n",
    "# 실제값 데이터 세트와 레이블 값이 1일떄의 예측 확률을 인자로 입력\n",
    "precisions, recalls, thresholds = precision_recall_curve(y_test, pred_proba_class1)\n",
    "print('Shape of returned threshold array :', thresholds.shape)\n",
    "\n",
    "# 10 sample, 15 step\n",
    "thr_index = np.arange(0, thresholds.shape[0], 15)\n",
    "print('Index of threshold array:', thr_index)\n",
    "print('sample 10 threshold :',np.round(thresholds[thr_index],2))\n",
    "\n",
    "# Precision, Recall  - 15 step\n",
    "print('Precisions of sample:', np.round(precisions[thr_index],3))\n",
    "print('Recalls of sample:', np.round(recalls[thr_index],3))\n"
   ]
  },
  {
   "cell_type": "markdown",
   "id": "3e0a965f",
   "metadata": {},
   "source": [
    "- 결과를 그래프로 시각화 해보자"
   ]
  },
  {
   "cell_type": "code",
   "execution_count": 49,
   "id": "d606ef6d",
   "metadata": {},
   "outputs": [
    {
     "data": {
      "image/png": "[encoded data removed]",
      "text/plain": [
       "<Figure size 800x600 with 1 Axes>"
      ]
     },
     "metadata": {},
     "output_type": "display_data"
    }
   ],
   "source": [
    "import matplotlib.pyplot as plt\n",
    "import matplotlib.ticker as ticker\n",
    "%matplotlib inline\n",
    "\n",
    "def precision_recall_curve_plot(y_test, pred_proba_c1):\n",
    "    precisions, recalls, thresholds = precision_recall_curve(y_test, pred_proba_c1)\n",
    "\n",
    "    plt.figure(figsize=(8,6))\n",
    "    threshold_boundary = thresholds.shape[0]\n",
    "    plt.plot(thresholds, precisions[0:threshold_boundary],linestyle= '--', label='precision')\n",
    "    plt.plot(thresholds, recalls[0:threshold_boundary], label='recall')\n",
    "\n",
    "    # threshold 값 X 축 scale 0.1 단위로 변경\n",
    "    start, end = plt.xlim()\n",
    "    plt.xticks(np.round(np.arange(start, end, 0.1), 2))\n",
    "\n",
    "    plt.xlabel('Threshold value'); plt.ylabel('Precision and Recall value')\n",
    "    plt.legend(); plt.grid()\n",
    "    plt.show()\n",
    "\n",
    "precision_recall_curve_plot(y_test, lr_clf.predict_proba(X_test)[:,1])"
   ]
  },
  {
   "cell_type": "markdown",
   "id": "d9bca874",
   "metadata": {},
   "source": [
    "#### -> 임곗값을 계속 증가시킬수록 정밀도는 증가하고 재현율은 감소하는 반대의 양상이 된다. 약 0.45 지점에서 두 값이 비슷해지는 모습을 보임.\n",
    "### Conclusion.\n",
    "- Positive 예측의 임곗값을 변경함에 따라 재현율과 정밀도의 수치가 달라짐.\n",
    "- 업무 환경에 따라 두 개의 수치를 상호보완할 수 있는 수준에서 적용돼야 한다.\n",
    "- 단순히 하나의 성능 지표를 높이기 위한 수단으로 사용해서는 안됨."
   ]
  },
  {
   "cell_type": "markdown",
   "id": "9b92f74d",
   "metadata": {},
   "source": [
    "## 4. F1 Score\n",
    "- F1 score는 정밀도와 재현율을 결합한 지표.\n",
    "- 정밀도와 재현율이 어느 한 쪽으로 치우치지 않는 수치를 나타낼 때 상대적으로 높은 값을 가짐.\n",
    "\n",
    "### F1 = 2 * (precision * recall) / (precision + recall)"
   ]
  },
  {
   "cell_type": "code",
   "execution_count": 53,
   "id": "87989766",
   "metadata": {},
   "outputs": [
    {
     "name": "stdout",
     "output_type": "stream",
     "text": [
      "F1 score :0.7966 \n"
     ]
    }
   ],
   "source": [
    "from sklearn.metrics import f1_score\n",
    "f1 = f1_score(y_test ,pred)\n",
    "print('F1 score :{0:.4f} '.format(f1))"
   ]
  },
  {
   "cell_type": "code",
   "execution_count": 57,
   "id": "1fcfdff6",
   "metadata": {},
   "outputs": [
    {
     "name": "stdout",
     "output_type": "stream",
     "text": [
      "threshold : 0.4\n",
      "오차 행렬\n",
      "[[97 21]\n",
      " [11 50]]\n",
      "정확도: {0:.4f}, 정밀도: {1:.4f}, 재현율: {2:.4f} F1: 0.7576\n",
      "threshold : 0.45\n",
      "오차 행렬\n",
      "[[105  13]\n",
      " [ 13  48]]\n",
      "정확도: {0:.4f}, 정밀도: {1:.4f}, 재현율: {2:.4f} F1: 0.7869\n",
      "threshold : 0.5\n",
      "오차 행렬\n",
      "[[108  10]\n",
      " [ 14  47]]\n",
      "정확도: {0:.4f}, 정밀도: {1:.4f}, 재현율: {2:.4f} F1: 0.7966\n",
      "threshold : 0.55\n",
      "오차 행렬\n",
      "[[111   7]\n",
      " [ 16  45]]\n",
      "정확도: {0:.4f}, 정밀도: {1:.4f}, 재현율: {2:.4f} F1: 0.7965\n",
      "threshold : 0.6\n",
      "오차 행렬\n",
      "[[113   5]\n",
      " [ 17  44]]\n",
      "정확도: {0:.4f}, 정밀도: {1:.4f}, 재현율: {2:.4f} F1: 0.8000\n"
     ]
    }
   ],
   "source": [
    "# get_clf_eval 수정\n",
    "# F1 score 추가\n",
    "def get_clf_eval(y_test , pred):\n",
    "    confusion = confusion_matrix( y_test, pred)\n",
    "    accuracy = accuracy_score(y_test , pred)\n",
    "    precision = precision_score(y_test , pred)\n",
    "    recall = recall_score(y_test , pred)\n",
    "    # F1 score 추가\n",
    "    f1 = f1_score(y_test, pred)\n",
    "\n",
    "    print('오차 행렬')\n",
    "    print(confusion)\n",
    "    print('정확도: {0:.4f}, 정밀도: {1:.4f}, 재현율: {2:.4f}', 'F1: {3:.4f}'.format(accuracy , precision ,recall, f1))\n",
    "\n",
    "thresholds= [0.40, 0.45, 0.50, 0.55, 0.60]\n",
    "pred_proba = lr_clf.predict_proba(X_test)\n",
    "get_eval_by_threshold(y_test, pred_proba[:,1].reshape(-1, 1), thresholds)\n"
   ]
  },
  {
   "cell_type": "markdown",
   "id": "3d6fe0a6",
   "metadata": {},
   "source": [
    "## 5. ROC 곡선과 AUC\n",
    "- ROC 곡선\n",
    "    - 일반적으로 의학 분야에서 많이 사용되지만, 머신러닝의 이진 분류 모델의 예측 성능을 판단하는 중요한 평가 지표.\n",
    "    - FPR(False Positive Rate)이 변할 때 TPR(True Positive Rate)이 어떻게 변화하는지를 나타내는 곡선임.\n",
    "        - TPR은 재현율을 나타냄.\n",
    "    - 사이킷런은 ROC 곡선을 구하기 위한 roc_curve() API를 제공함.\n",
    "        - 입력 파라미터 : y_true, y_score\n",
    "        - 반환 값 : fpr, tpr, thresholds"
   ]
  },
  {
   "cell_type": "code",
   "execution_count": 58,
   "id": "4e0e2979",
   "metadata": {},
   "outputs": [
    {
     "name": "stdout",
     "output_type": "stream",
     "text": [
      "Sample index:  [ 1  6 11 16 21 26 31 36 41]\n",
      "Sample Thresholds:  [0.94 0.73 0.62 0.52 0.44 0.28 0.14 0.13 0.12]\n",
      "Sample FPR:  [0.    0.008 0.025 0.076 0.127 0.254 0.593 0.661 0.822]\n",
      "Sample TPR:  [0.016 0.492 0.705 0.738 0.803 0.885 0.918 0.967 0.967]\n"
     ]
    }
   ],
   "source": [
    "from sklearn.metrics import roc_curve\n",
    "\n",
    "pred_proba_class1 = lr_clf.predict_proba(X_test)[:,-1]\n",
    "\n",
    "\n",
    "fprs, tprs, thresholds = roc_curve(y_test, pred_proba_class1)\n",
    "# 10 sample, 5 step \n",
    "# thresholds[0]은 max(예측 확률)+1로 임의 설정되어 제외\n",
    "thr_index = np.arange(1, thresholds.shape[0], 5)\n",
    "\n",
    "print('Sample index: ', thr_index)\n",
    "print('Sample Thresholds: ', np.round(thresholds[thr_index],2))\n",
    "\n",
    "# 5 step\n",
    "print('Sample FPR: ', np.round(fprs[thr_index],3))\n",
    "print('Sample TPR: ', np.round(tprs[thr_index],3))"
   ]
  },
  {
   "cell_type": "code",
   "execution_count": 60,
   "id": "8920f3aa",
   "metadata": {},
   "outputs": [
    {
     "data": {
      "image/png": "[encoded data removed]",
      "text/plain": [
       "<Figure size 640x480 with 1 Axes>"
      ]
     },
     "metadata": {},
     "output_type": "display_data"
    }
   ],
   "source": [
    "# ROC curve visualize\n",
    "def roc_curve_plot(y_test, pred_proba_c1):\n",
    "    fprs, tprs, thresholds = roc_curve(y_test, pred_proba_c1)\n",
    "\n",
    "    plt.plot(fprs, tprs, label='ROC')\n",
    "    plt.plot([0,1], [0,1], 'k--',label='Random')\n",
    "\n",
    "    start, end = plt.xlim()\n",
    "    plt.xticks(np.round(np.arange(start, end, 0.1),2))\n",
    "    plt.xlim(0,1); plt.ylim(0,1)\n",
    "    plt.xlabel('FPR ( 1 - Sensitivity )'); plt.ylabel('TPR( Recall )')\n",
    "    plt.legend()\n",
    "\n",
    "roc_curve_plot(y_test, pred_proba[:,1])"
   ]
  },
  {
   "cell_type": "markdown",
   "id": "cf65b055",
   "metadata": {},
   "source": [
    "## 5. 정리\n",
    "- 분류에 사용되는 성능 평가 지표에는 정확도, 오차행렬, 정밀도, 재현율, F1 스코어, ROC-AUC 등이 있다.\n",
    "- 이진 분류의 레이블 값이 불균형하게 분포될 경우 단순히 예측 결과와 실제 결과가 일치하는 지표인 정확도만으로는 머신러닝 모델의 예측을 평가할 수 없다. -> 다양한 지표를 함께 봐야함\n",
    "- 오차행렬은 TN, FP, FN, TP로 매핑되는 4분면 행렬을 기반으로 예측 성능을 평가한다. 이 값을 다향하게 결합하여 정확도, 정밀도, 재현율 수치를 만들고, 이를 통해 분류 모델 예측 성능의 오류가 어떤 모습으로 발생하는지 알 수 있는 것이다.\n",
    "- 정밀도와 재현율은 Positive 데이터 세트의 예측 성능에 좀 더 초점을 맞춘 평가 지표이다. 각각의 업무 상황에 따라 어떤 지표가 더 중요한 지를 고려해야한다. 분류하려는 업무의 특성상 정밀도 또는 재현율이 특별히 강조되어야 하는 경우 분류의 결정 임계값(Threshold)를 조정해 정밀도 또는 재현율의 수치를 높이는 방법도 있다.\n",
    "- F1 스코어는 정밀도와 재현율을 결합한 평가 지표이며, 정밀도와 재현율이 어느 한쪽으로 치우치지 않을 때 높은 지표값을 가지게 된다. \n",
    "- ROC-AUC는 일반적으로 이진 분류의 성능 평가를 위해 가장 많이 사용되는 지표이며, AUC값은 ROC 곡선 밑의 면적을 구한 것으로서 일반적으로 1에 가까울수록 좋은 수치이다. "
   ]
  }
 ],
 "metadata": {
  "kernelspec": {
   "display_name": "tf_env",
   "language": "python",
   "name": "python3"
  },
  "language_info": {
   "codemirror_mode": {
    "name": "ipython",
    "version": 3
   },
   "file_extension": ".py",
   "mimetype": "text/x-python",
   "name": "python",
   "nbconvert_exporter": "python",
   "pygments_lexer": "ipython3",
   "version": "3.10.18"
  }
 },
 "nbformat": 4,
 "nbformat_minor": 5
}
