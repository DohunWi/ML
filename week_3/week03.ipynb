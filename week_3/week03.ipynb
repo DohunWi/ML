{
 "cells": [
  {
   "cell_type": "markdown",
   "id": "211a8fbf",
   "metadata": {},
   "source": [
    "# WEEK_03"
   ]
  },
  {
   "cell_type": "markdown",
   "id": "c75e8366",
   "metadata": {},
   "source": [
    "## 1. 데이터 스케일링 변환\n",
    "\n",
    "- Scaler 객체를 이용해 변환\n",
    "    - fit() : 데이터 변환을 위한 기준 정보를 설정함 (ex : 최댓값 / 최솟값 설정 등)\n",
    "    - transform() : 설정된 정보를 이용해 데이터를 변환\n",
    "    - fit_transform() : fit 과 transform을 한번에 적용\n",
    "- 변환 시 유의할 점\n",
    "    - 학습 / 테스트 데이터 세트에 변환 시 학습 데이터에 fit() 한 동일한 스케일러로 테스트 데이터에 적용해야 한다.\n",
    "        \n",
    "        → 만약 테스트 데이터에 새로 fit()한 스케일러로 예측을 수행하게 되면 학습 데이터와 테스트 데이터의        스케일링 기준 정보가 서로 달라지기 때문에 올바른 예측결과를 도출하지 못할 수 있음.\n",
    "        \n",
    "- Scaler class의 fit(), transform()은 2차원 이상 데이터만 가능함."
   ]
  },
  {
   "cell_type": "code",
   "execution_count": 1,
   "id": "c5e9a614",
   "metadata": {},
   "outputs": [
    {
     "name": "stdout",
     "output_type": "stream",
     "text": [
      "original train data:[ 0  1  2  3  4  5  6  7  8  9 10]\n",
      "scaled train data:[0.  0.1 0.2 0.3 0.4 0.5 0.6 0.7 0.8 0.9 1. ]\n"
     ]
    }
   ],
   "source": [
    "from sklearn.preprocessing import MinMaxScaler\n",
    "import numpy as np\n",
    "\n",
    "# data 2차원 reshape\n",
    "train_array = np.arange(0, 11).reshape(-1, 1)\n",
    "test_array = np.arange(0, 6).reshape(-1, 1)\n",
    "\n",
    "# MinMaxScaler 객체에 별도의 feature_range 파라미터 값을 지정하지 않으면 0~1 값으로 변환 \n",
    "scaler = MinMaxScaler()\n",
    "\n",
    "# fit -> min=0, max=10\n",
    "scaler.fit(train_array)\n",
    "\n",
    "# transform -> 원본 10->1로 변경됨, 1/10 scale로 테스트 데이터 변환\n",
    "train_scaled = scaler.transform(train_array)\n",
    "\n",
    "print('original train data:{}'.format(train_array.reshape(-1),2))\n",
    "print('scaled train data:{0}'.format(train_scaled.reshape(-1),2))\n"
   ]
  },
  {
   "cell_type": "code",
   "execution_count": 2,
   "id": "dc19e3bd",
   "metadata": {},
   "outputs": [
    {
     "name": "stdout",
     "output_type": "stream",
     "text": [
      "original test data:[0 1 2 3 4 5]\n",
      "scaled test data:[0.  0.2 0.4 0.6 0.8 1. ]\n"
     ]
    }
   ],
   "source": [
    "# test data로 새로 fit 한 후에 transform 한 경우\n",
    "# 값이 달라짐\n",
    "scaler.fit(test_array)\n",
    "test_scaled = scaler.transform(test_array)\n",
    "\n",
    "print('original test data:{}'.format(test_array.reshape(-1),2))\n",
    "print('scaled test data:{}'.format(test_scaled.reshape(-1),2))"
   ]
  },
  {
   "cell_type": "code",
   "execution_count": 3,
   "id": "afc7c09e",
   "metadata": {},
   "outputs": [
    {
     "name": "stdout",
     "output_type": "stream",
     "text": [
      "original train data:[ 0  1  2  3  4  5  6  7  8  9 10]\n",
      "scaled train data:[0.  0.1 0.2 0.3 0.4 0.5 0.6 0.7 0.8 0.9 1. ]\n",
      "original test data:[0 1 2 3 4 5]\n",
      "scaled test data:[0.  0.1 0.2 0.3 0.4 0.5]\n"
     ]
    }
   ],
   "source": [
    "# 동일한 scaler로 transform 한 경우\n",
    "# 값이 동일하다\n",
    "scaler = MinMaxScaler()\n",
    "\n",
    "scaler.fit(train_array)\n",
    "train_scaled = scaler.transform(train_array)\n",
    "test_scaled = scaler.transform(test_array)\n",
    "\n",
    "print('original train data:{}'.format(train_array.reshape(-1),2))\n",
    "print('scaled train data:{0}'.format(train_scaled.reshape(-1),2))\n",
    "print('original test data:{}'.format(test_array.reshape(-1),2))\n",
    "print('scaled test data:{}'.format(test_scaled.reshape(-1),2))"
   ]
  },
  {
   "cell_type": "markdown",
   "id": "7b3fbbfa",
   "metadata": {},
   "source": [
    "- fit_transform()을 적용할 때도 동일함\n",
    "\n",
    "### - 데이터 스케일링 시 유의점 요약\n",
    "1. 가능하다면 전체 데이터의 스케일링 변환을 적용 한 뒤 학습과 테스트 데이터로 분리\n",
    "2. 1이 여의치 않다면 테스트 데이터 변환 시에는 fit이나 fit_transform을 적용하지 않고 학습 데이터로 fit한 scaler를 이용해 transform한다."
   ]
  },
  {
   "cell_type": "markdown",
   "id": "ec5e1535",
   "metadata": {},
   "source": [
    "## 2. 사이킷런으로 수행하는 타이타닉 생존자 예측\n",
    "Task : kaggle에서 제공하는 타이타닉 탑승자 데이터를 기반으로 생존자 예측하기"
   ]
  },
  {
   "cell_type": "code",
   "execution_count": 4,
   "id": "49954e71",
   "metadata": {},
   "outputs": [
    {
     "data": {
      "text/html": [
       "<div>\n",
       "<style scoped>\n",
       "    .dataframe tbody tr th:only-of-type {\n",
       "        vertical-align: middle;\n",
       "    }\n",
       "\n",
       "    .dataframe tbody tr th {\n",
       "        vertical-align: top;\n",
       "    }\n",
       "\n",
       "    .dataframe thead th {\n",
       "        text-align: right;\n",
       "    }\n",
       "</style>\n",
       "<table border=\"1\" class=\"dataframe\">\n",
       "  <thead>\n",
       "    <tr style=\"text-align: right;\">\n",
       "      <th></th>\n",
       "      <th>PassengerId</th>\n",
       "      <th>Survived</th>\n",
       "      <th>Pclass</th>\n",
       "      <th>Name</th>\n",
       "      <th>Sex</th>\n",
       "      <th>Age</th>\n",
       "      <th>SibSp</th>\n",
       "      <th>Parch</th>\n",
       "      <th>Ticket</th>\n",
       "      <th>Fare</th>\n",
       "      <th>Cabin</th>\n",
       "      <th>Embarked</th>\n",
       "    </tr>\n",
       "  </thead>\n",
       "  <tbody>\n",
       "    <tr>\n",
       "      <th>0</th>\n",
       "      <td>1</td>\n",
       "      <td>0</td>\n",
       "      <td>3</td>\n",
       "      <td>Braund, Mr. Owen Harris</td>\n",
       "      <td>male</td>\n",
       "      <td>22.0</td>\n",
       "      <td>1</td>\n",
       "      <td>0</td>\n",
       "      <td>A/5 21171</td>\n",
       "      <td>7.2500</td>\n",
       "      <td>NaN</td>\n",
       "      <td>S</td>\n",
       "    </tr>\n",
       "    <tr>\n",
       "      <th>1</th>\n",
       "      <td>2</td>\n",
       "      <td>1</td>\n",
       "      <td>1</td>\n",
       "      <td>Cumings, Mrs. John Bradley (Florence Briggs Th...</td>\n",
       "      <td>female</td>\n",
       "      <td>38.0</td>\n",
       "      <td>1</td>\n",
       "      <td>0</td>\n",
       "      <td>PC 17599</td>\n",
       "      <td>71.2833</td>\n",
       "      <td>C85</td>\n",
       "      <td>C</td>\n",
       "    </tr>\n",
       "    <tr>\n",
       "      <th>2</th>\n",
       "      <td>3</td>\n",
       "      <td>1</td>\n",
       "      <td>3</td>\n",
       "      <td>Heikkinen, Miss. Laina</td>\n",
       "      <td>female</td>\n",
       "      <td>26.0</td>\n",
       "      <td>0</td>\n",
       "      <td>0</td>\n",
       "      <td>STON/O2. 3101282</td>\n",
       "      <td>7.9250</td>\n",
       "      <td>NaN</td>\n",
       "      <td>S</td>\n",
       "    </tr>\n",
       "    <tr>\n",
       "      <th>3</th>\n",
       "      <td>4</td>\n",
       "      <td>1</td>\n",
       "      <td>1</td>\n",
       "      <td>Futrelle, Mrs. Jacques Heath (Lily May Peel)</td>\n",
       "      <td>female</td>\n",
       "      <td>35.0</td>\n",
       "      <td>1</td>\n",
       "      <td>0</td>\n",
       "      <td>113803</td>\n",
       "      <td>53.1000</td>\n",
       "      <td>C123</td>\n",
       "      <td>S</td>\n",
       "    </tr>\n",
       "    <tr>\n",
       "      <th>4</th>\n",
       "      <td>5</td>\n",
       "      <td>0</td>\n",
       "      <td>3</td>\n",
       "      <td>Allen, Mr. William Henry</td>\n",
       "      <td>male</td>\n",
       "      <td>35.0</td>\n",
       "      <td>0</td>\n",
       "      <td>0</td>\n",
       "      <td>373450</td>\n",
       "      <td>8.0500</td>\n",
       "      <td>NaN</td>\n",
       "      <td>S</td>\n",
       "    </tr>\n",
       "  </tbody>\n",
       "</table>\n",
       "</div>"
      ],
      "text/plain": [
       "   PassengerId  Survived  Pclass  \\\n",
       "0            1         0       3   \n",
       "1            2         1       1   \n",
       "2            3         1       3   \n",
       "3            4         1       1   \n",
       "4            5         0       3   \n",
       "\n",
       "                                                Name     Sex   Age  SibSp  \\\n",
       "0                            Braund, Mr. Owen Harris    male  22.0      1   \n",
       "1  Cumings, Mrs. John Bradley (Florence Briggs Th...  female  38.0      1   \n",
       "2                             Heikkinen, Miss. Laina  female  26.0      0   \n",
       "3       Futrelle, Mrs. Jacques Heath (Lily May Peel)  female  35.0      1   \n",
       "4                           Allen, Mr. William Henry    male  35.0      0   \n",
       "\n",
       "   Parch            Ticket     Fare Cabin Embarked  \n",
       "0      0         A/5 21171   7.2500   NaN        S  \n",
       "1      0          PC 17599  71.2833   C85        C  \n",
       "2      0  STON/O2. 3101282   7.9250   NaN        S  \n",
       "3      0            113803  53.1000  C123        S  \n",
       "4      0            373450   8.0500   NaN        S  "
      ]
     },
     "metadata": {},
     "output_type": "display_data"
    },
    {
     "name": "stdout",
     "output_type": "stream",
     "text": [
      "\n",
      " ### Data information ### \n",
      "\n",
      "<class 'pandas.core.frame.DataFrame'>\n",
      "RangeIndex: 891 entries, 0 to 890\n",
      "Data columns (total 12 columns):\n",
      " #   Column       Non-Null Count  Dtype  \n",
      "---  ------       --------------  -----  \n",
      " 0   PassengerId  891 non-null    int64  \n",
      " 1   Survived     891 non-null    int64  \n",
      " 2   Pclass       891 non-null    int64  \n",
      " 3   Name         891 non-null    object \n",
      " 4   Sex          891 non-null    object \n",
      " 5   Age          714 non-null    float64\n",
      " 6   SibSp        891 non-null    int64  \n",
      " 7   Parch        891 non-null    int64  \n",
      " 8   Ticket       891 non-null    object \n",
      " 9   Fare         891 non-null    float64\n",
      " 10  Cabin        204 non-null    object \n",
      " 11  Embarked     889 non-null    object \n",
      "dtypes: float64(2), int64(5), object(5)\n",
      "memory usage: 83.7+ KB\n",
      "None\n"
     ]
    }
   ],
   "source": [
    "import pandas as pd\n",
    "import numpy as np\n",
    "import matplotlib.pyplot as plt\n",
    "import seaborn as sns\n",
    "%matplotlib inline\n",
    "\n",
    "# data 살펴보기\n",
    "titanic_df = pd.read_csv('./data/train.csv')\n",
    "display(titanic_df.head())\n",
    "print('\\n ### Data information ### \\n')\n",
    "print(titanic_df.info())"
   ]
  },
  {
   "cell_type": "markdown",
   "id": "ff7aeadc",
   "metadata": {},
   "source": [
    "- Data info\n",
    "1. Passengerid : 탑승자 데이터 일련 번호\n",
    "2. survived : 생존 여부, 0=사망, 1=생존\n",
    "3. pclass : 티켓의 선실 등급, 1=일등석 2=이등석 3=삼등석\n",
    "4. sex : 탑승자 성별\n",
    "5. name : 탑승자 이름\n",
    "6. age : 탑승자 나이\n",
    "7. sibsp : 같이 탑승한 형제자매 또는 배우자 인원 수\n",
    "8. parch : 같이 탑승한 부모님 또는 어린이 인원수\n",
    "9. ticket : 티켓 번호\n",
    "10. fare : 요금\n",
    "11. cabin : 선실 번호\n",
    "12. embarked : 중간 정착 항구 C = Cherbourg, Q = Queenstown, S= Southampton"
   ]
  },
  {
   "cell_type": "markdown",
   "id": "9cb62d4a",
   "metadata": {},
   "source": [
    " -> pandas의 object 타입은 string타입으로 봐도 무방"
   ]
  },
  {
   "cell_type": "markdown",
   "id": "629f304f",
   "metadata": {},
   "source": [
    "- 사이킷런 머신러닝 알고리즘은 NULL값을 허용하지 않으므로 처리가 필요함. -> 여기서는 fillna()함수 이용"
   ]
  },
  {
   "cell_type": "code",
   "execution_count": 5,
   "id": "1d11aee0",
   "metadata": {},
   "outputs": [
    {
     "name": "stdout",
     "output_type": "stream",
     "text": [
      "Num of NULL : 866\n"
     ]
    }
   ],
   "source": [
    "titanic_df['Age'].fillna(titanic_df['Age'].mean())\n",
    "titanic_df['Cabin'].fillna('N')\n",
    "titanic_df['Embarked'].fillna('N')\n",
    "print('Num of NULL :', titanic_df.isnull().sum().sum())"
   ]
  },
  {
   "cell_type": "markdown",
   "id": "a8540586",
   "metadata": {},
   "source": [
    "- Data 분포 확인 (Sex, Cabin, Embarked) <- string"
   ]
  },
  {
   "cell_type": "code",
   "execution_count": 6,
   "id": "e027da8e",
   "metadata": {},
   "outputs": [
    {
     "name": "stdout",
     "output_type": "stream",
     "text": [
      "SEX 값 분포 : \n",
      " Sex\n",
      "male      577\n",
      "female    314\n",
      "Name: count, dtype: int64\n",
      "\n",
      "Cabin 값 분포 : \n",
      " Cabin\n",
      "B96 B98        4\n",
      "G6             4\n",
      "C23 C25 C27    4\n",
      "C22 C26        3\n",
      "F33            3\n",
      "              ..\n",
      "E34            1\n",
      "C7             1\n",
      "C54            1\n",
      "E36            1\n",
      "C148           1\n",
      "Name: count, Length: 147, dtype: int64\n",
      "\n",
      "Embarked 값 분포 : \n",
      " Embarked\n",
      "S    644\n",
      "C    168\n",
      "Q     77\n",
      "Name: count, dtype: int64\n"
     ]
    }
   ],
   "source": [
    "print('SEX 값 분포 : \\n', titanic_df['Sex'].value_counts())\n",
    "print('\\nCabin 값 분포 : \\n', titanic_df['Cabin'].value_counts())\n",
    "print('\\nEmbarked 값 분포 : \\n', titanic_df['Embarked'].value_counts())"
   ]
  },
  {
   "cell_type": "code",
   "execution_count": 7,
   "id": "d9d45b5f",
   "metadata": {},
   "outputs": [
    {
     "data": {
      "text/plain": [
       "0    NaN\n",
       "1      C\n",
       "2    NaN\n",
       "3      C\n",
       "4    NaN\n",
       "Name: Cabin, dtype: object"
      ]
     },
     "metadata": {},
     "output_type": "display_data"
    }
   ],
   "source": [
    "# Cabin column 앞 글자만 추출\n",
    "titanic_df['Cabin'] = titanic_df['Cabin'].str[:1]\n",
    "display(titanic_df['Cabin'].head())"
   ]
  },
  {
   "cell_type": "markdown",
   "id": "75a1613e",
   "metadata": {},
   "source": [
    "### - 머신러닝 학습, 예측 전에 데이터 특성 파악하기\n",
    "- 어떤 승객이 생존확률이 높을까?\n",
    "    - 우선 구조 대상 (Women and children first) 그 다음 부자나 유명인이 구조 대상이었을 것\n",
    "    - 삼등실에 탄 가난한 사람들은 많이 사망했을 것임."
   ]
  },
  {
   "cell_type": "code",
   "execution_count": 8,
   "id": "fa9d04eb",
   "metadata": {},
   "outputs": [
    {
     "name": "stdout",
     "output_type": "stream",
     "text": [
      "Sex     Survived\n",
      "female  0            81\n",
      "        1           233\n",
      "male    0           468\n",
      "        1           109\n",
      "Name: Survived, dtype: int64\n"
     ]
    },
    {
     "data": {
      "text/plain": [
       "<Axes: xlabel='Sex', ylabel='Survived'>"
      ]
     },
     "execution_count": 8,
     "metadata": {},
     "output_type": "execute_result"
    },
    {
     "data": {
      "image/png": "[encoded data removed]",
      "text/plain": [
       "<Figure size 640x480 with 1 Axes>"
      ]
     },
     "metadata": {},
     "output_type": "display_data"
    }
   ],
   "source": [
    "print(titanic_df.groupby(['Sex','Survived'])['Survived'].count())\n",
    "\n",
    "# seaborn 이용해 데이터 시각회\n",
    "# seaborn - dataframe과 쉽게 연동, 많이 쓰인다\n",
    "sns.barplot(x='Sex', y='Survived', data=titanic_df)"
   ]
  },
  {
   "cell_type": "code",
   "execution_count": 9,
   "id": "e9d5837e",
   "metadata": {},
   "outputs": [
    {
     "data": {
      "text/plain": [
       "<Axes: xlabel='Pclass', ylabel='Survived'>"
      ]
     },
     "execution_count": 9,
     "metadata": {},
     "output_type": "execute_result"
    },
    {
     "data": {
      "image/png": "[encoded data removed]",
      "text/plain": [
       "<Figure size 640x480 with 1 Axes>"
      ]
     },
     "metadata": {},
     "output_type": "display_data"
    }
   ],
   "source": [
    "sns.barplot(x='Pclass',y='Survived', hue='Sex', data=titanic_df)"
   ]
  },
  {
   "cell_type": "markdown",
   "id": "13ad8032",
   "metadata": {},
   "source": [
    "### Age에 따른 category 분류 하기\n",
    "- 0~5 : Baby\n",
    "- 6~12 : Child\n",
    "- 13~18 : Teenager\n",
    "- 19~25 : Student\n",
    "- 26~35 : Young Adult\n",
    "- 36~60 : Adult\n",
    "- 61 ~ : Elderly\n",
    "- ~ -1 : Unknown"
   ]
  },
  {
   "cell_type": "code",
   "execution_count": 10,
   "id": "df448006",
   "metadata": {},
   "outputs": [
    {
     "data": {
      "image/png": "[encoded data removed]",
      "text/plain": [
       "<Figure size 1000x600 with 1 Axes>"
      ]
     },
     "metadata": {},
     "output_type": "display_data"
    }
   ],
   "source": [
    "def get_category(age):\n",
    "    cat = ''\n",
    "    if age <= -1: cat = \"Unknown\"\n",
    "    elif age <= 5: cat = \"Baby\"\n",
    "    elif age <= 12: cat = \"Child\"\n",
    "    elif age <= 18: cat = \"Teenager\"\n",
    "    elif age <= 25: cat = \"Student\"\n",
    "    elif age <= 35: cat = \"Young Adult\"\n",
    "    elif age <= 60: cat = \"Adult\"\n",
    "    else: cat = \"Elderly\"\n",
    "\n",
    "    return cat\n",
    "\n",
    "plt.figure(figsize=(10,6))\n",
    "\n",
    "group_names = ['Unknown', 'Baby','Child', 'Teenager', 'Student', 'Young Adult', 'Adult', 'Elderly']\n",
    "titanic_df['Age_cat'] = titanic_df['Age'].apply(lambda x : get_category(x))\n",
    "sns.barplot(x='Age_cat', y='Survived', hue='Sex', data=titanic_df, order=group_names)\n",
    "titanic_df.drop(['Age_cat'], axis=1, inplace=True)\n"
   ]
  },
  {
   "cell_type": "markdown",
   "id": "e4f49a47",
   "metadata": {},
   "source": [
    "### 문자열 피처 인코딩하기 -> LabelEncoder class 이용\n",
    "- 문자열은 그대로 학습에 이용할 수 없기 때문에 인코딩이 필요하다"
   ]
  },
  {
   "cell_type": "code",
   "execution_count": 11,
   "id": "6a0b6817",
   "metadata": {},
   "outputs": [
    {
     "data": {
      "text/html": [
       "<div>\n",
       "<style scoped>\n",
       "    .dataframe tbody tr th:only-of-type {\n",
       "        vertical-align: middle;\n",
       "    }\n",
       "\n",
       "    .dataframe tbody tr th {\n",
       "        vertical-align: top;\n",
       "    }\n",
       "\n",
       "    .dataframe thead th {\n",
       "        text-align: right;\n",
       "    }\n",
       "</style>\n",
       "<table border=\"1\" class=\"dataframe\">\n",
       "  <thead>\n",
       "    <tr style=\"text-align: right;\">\n",
       "      <th></th>\n",
       "      <th>PassengerId</th>\n",
       "      <th>Survived</th>\n",
       "      <th>Pclass</th>\n",
       "      <th>Name</th>\n",
       "      <th>Sex</th>\n",
       "      <th>Age</th>\n",
       "      <th>SibSp</th>\n",
       "      <th>Parch</th>\n",
       "      <th>Ticket</th>\n",
       "      <th>Fare</th>\n",
       "      <th>Cabin</th>\n",
       "      <th>Embarked</th>\n",
       "    </tr>\n",
       "  </thead>\n",
       "  <tbody>\n",
       "    <tr>\n",
       "      <th>0</th>\n",
       "      <td>1</td>\n",
       "      <td>0</td>\n",
       "      <td>3</td>\n",
       "      <td>Braund, Mr. Owen Harris</td>\n",
       "      <td>1</td>\n",
       "      <td>22.0</td>\n",
       "      <td>1</td>\n",
       "      <td>0</td>\n",
       "      <td>A/5 21171</td>\n",
       "      <td>7.2500</td>\n",
       "      <td>8</td>\n",
       "      <td>2</td>\n",
       "    </tr>\n",
       "    <tr>\n",
       "      <th>1</th>\n",
       "      <td>2</td>\n",
       "      <td>1</td>\n",
       "      <td>1</td>\n",
       "      <td>Cumings, Mrs. John Bradley (Florence Briggs Th...</td>\n",
       "      <td>0</td>\n",
       "      <td>38.0</td>\n",
       "      <td>1</td>\n",
       "      <td>0</td>\n",
       "      <td>PC 17599</td>\n",
       "      <td>71.2833</td>\n",
       "      <td>2</td>\n",
       "      <td>0</td>\n",
       "    </tr>\n",
       "    <tr>\n",
       "      <th>2</th>\n",
       "      <td>3</td>\n",
       "      <td>1</td>\n",
       "      <td>3</td>\n",
       "      <td>Heikkinen, Miss. Laina</td>\n",
       "      <td>0</td>\n",
       "      <td>26.0</td>\n",
       "      <td>0</td>\n",
       "      <td>0</td>\n",
       "      <td>STON/O2. 3101282</td>\n",
       "      <td>7.9250</td>\n",
       "      <td>8</td>\n",
       "      <td>2</td>\n",
       "    </tr>\n",
       "    <tr>\n",
       "      <th>3</th>\n",
       "      <td>4</td>\n",
       "      <td>1</td>\n",
       "      <td>1</td>\n",
       "      <td>Futrelle, Mrs. Jacques Heath (Lily May Peel)</td>\n",
       "      <td>0</td>\n",
       "      <td>35.0</td>\n",
       "      <td>1</td>\n",
       "      <td>0</td>\n",
       "      <td>113803</td>\n",
       "      <td>53.1000</td>\n",
       "      <td>2</td>\n",
       "      <td>2</td>\n",
       "    </tr>\n",
       "    <tr>\n",
       "      <th>4</th>\n",
       "      <td>5</td>\n",
       "      <td>0</td>\n",
       "      <td>3</td>\n",
       "      <td>Allen, Mr. William Henry</td>\n",
       "      <td>1</td>\n",
       "      <td>35.0</td>\n",
       "      <td>0</td>\n",
       "      <td>0</td>\n",
       "      <td>373450</td>\n",
       "      <td>8.0500</td>\n",
       "      <td>8</td>\n",
       "      <td>2</td>\n",
       "    </tr>\n",
       "  </tbody>\n",
       "</table>\n",
       "</div>"
      ],
      "text/plain": [
       "   PassengerId  Survived  Pclass  \\\n",
       "0            1         0       3   \n",
       "1            2         1       1   \n",
       "2            3         1       3   \n",
       "3            4         1       1   \n",
       "4            5         0       3   \n",
       "\n",
       "                                                Name  Sex   Age  SibSp  Parch  \\\n",
       "0                            Braund, Mr. Owen Harris    1  22.0      1      0   \n",
       "1  Cumings, Mrs. John Bradley (Florence Briggs Th...    0  38.0      1      0   \n",
       "2                             Heikkinen, Miss. Laina    0  26.0      0      0   \n",
       "3       Futrelle, Mrs. Jacques Heath (Lily May Peel)    0  35.0      1      0   \n",
       "4                           Allen, Mr. William Henry    1  35.0      0      0   \n",
       "\n",
       "             Ticket     Fare  Cabin  Embarked  \n",
       "0         A/5 21171   7.2500      8         2  \n",
       "1          PC 17599  71.2833      2         0  \n",
       "2  STON/O2. 3101282   7.9250      8         2  \n",
       "3            113803  53.1000      2         2  \n",
       "4            373450   8.0500      8         2  "
      ]
     },
     "metadata": {},
     "output_type": "display_data"
    }
   ],
   "source": [
    "from sklearn import preprocessing\n",
    "\n",
    "def encode_features(dataDF):\n",
    "    features = ['Cabin', 'Sex', 'Embarked']\n",
    "    for feature in features:\n",
    "        le = preprocessing.LabelEncoder()\n",
    "        le = le.fit(dataDF[feature])\n",
    "        dataDF[feature] = le.transform(dataDF[feature])\n",
    "\n",
    "    return dataDF \n",
    "\n",
    "titanic_df = encode_features(titanic_df)\n",
    "display(titanic_df.head())"
   ]
  },
  {
   "cell_type": "markdown",
   "id": "fe3c4b06",
   "metadata": {},
   "source": [
    "### - 전체 preprocessing 함수로 만들기\n",
    "- 전체 파이프라인 호출 함수 transform_features()"
   ]
  },
  {
   "cell_type": "code",
   "execution_count": 29,
   "id": "1ac94e45",
   "metadata": {},
   "outputs": [],
   "source": [
    "# NUll 처리 함수\n",
    "def fillna(df):\n",
    "    df['Age'] = df['Age'].fillna(df['Age'].mean())\n",
    "    df['Cabin'] =df['Cabin'].fillna('N')\n",
    "    df['Embarked'] = df['Embarked'].fillna('N')\n",
    "    df['Fare'] = df['Fare'].fillna(0)\n",
    "    return df\n",
    "\n",
    "# 머신러닝 알고리즘에 불필요한 속성 제거\n",
    "def drop_features(df):\n",
    "    df.drop(['PassengerId', 'Name', 'Ticket'], axis=1, inplace=True)\n",
    "    return df\n",
    "\n",
    "# 레이블 인코딩 실행\n",
    "def format_features(df):\n",
    "    df['Cabin'] = df['Cabin'].str[:1]\n",
    "    features = ['Cabin', 'Sex', 'Embarked']\n",
    "    for feature in features:\n",
    "        le = preprocessing.LabelEncoder()\n",
    "        le = le.fit(df[feature])\n",
    "        df[feature] = le.transform(df[feature])\n",
    "\n",
    "    return df \n",
    "\n",
    "# 전체 파이프라인 호출 함수\n",
    "def transform_features(df):\n",
    "    df = fillna(df)\n",
    "    df = drop_features(df)\n",
    "    df = format_features(df)\n",
    "    return df\n",
    "    "
   ]
  },
  {
   "cell_type": "markdown",
   "id": "e8ec380d",
   "metadata": {},
   "source": [
    "### - 데이터 로드 및 전처리 실행, 피처 - 레이블 데이터 셋 추출"
   ]
  },
  {
   "cell_type": "code",
   "execution_count": 30,
   "id": "c87a9e9d",
   "metadata": {},
   "outputs": [],
   "source": [
    "titanic_df = pd.read_csv('./data/train.csv')\n",
    "y_titanic_df = titanic_df['Survived']\n",
    "X_titanic_df = titanic_df.drop(['Survived'],axis=1)\n",
    "\n",
    "X_titanic_df = transform_features(X_titanic_df)"
   ]
  },
  {
   "cell_type": "markdown",
   "id": "73fb7aa1",
   "metadata": {},
   "source": [
    "### - Data split (train , test)"
   ]
  },
  {
   "cell_type": "code",
   "execution_count": 35,
   "id": "55f9eefe",
   "metadata": {},
   "outputs": [
    {
     "name": "stdout",
     "output_type": "stream",
     "text": [
      "Pclass      0\n",
      "Sex         0\n",
      "Age         0\n",
      "SibSp       0\n",
      "Parch       0\n",
      "Fare        0\n",
      "Cabin       0\n",
      "Embarked    0\n",
      "dtype: int64\n"
     ]
    }
   ],
   "source": [
    "# data split (train, test)\n",
    "from sklearn.model_selection import train_test_split\n",
    "\n",
    "X_train, X_test, y_train, y_test = train_test_split(X_titanic_df, y_titanic_df, test_size= 0.2, random_state=11)\n",
    "print(X_train.isnull().sum())"
   ]
  },
  {
   "cell_type": "markdown",
   "id": "0bbb8db4",
   "metadata": {},
   "source": [
    "### - ML 알고리즘 (결정트리, 랜덤 포레스트, 로지스틱 회귀)을 이용해 타이타닉 생존자 예측"
   ]
  },
  {
   "cell_type": "code",
   "execution_count": 37,
   "id": "cf085c72",
   "metadata": {},
   "outputs": [
    {
     "name": "stdout",
     "output_type": "stream",
     "text": [
      "DecisionTreeClassifier Accuracy : 0.7877\n",
      "RandomForestClassifier Accuracy : 0.8547\n",
      "LogisticRegression Accuracy : 0.8492\n"
     ]
    }
   ],
   "source": [
    "from sklearn.tree import DecisionTreeClassifier\n",
    "from sklearn.ensemble import RandomForestClassifier\n",
    "from sklearn.linear_model import LogisticRegression\n",
    "from sklearn.metrics import accuracy_score\n",
    "\n",
    "# 1. class 생성\n",
    "dt_clf = DecisionTreeClassifier(random_state=11)\n",
    "rf_clf = RandomForestClassifier(random_state=11)\n",
    "lr_clf = LogisticRegression(max_iter=1000)\n",
    "\n",
    "# 2. 각각 학습 / 예측 / 평가\n",
    "dt_clf.fit(X_train, y_train)\n",
    "dt_pred = dt_clf.predict(X_test)\n",
    "print(\"DecisionTreeClassifier Accuracy : {0:.4f}\".format(accuracy_score(y_test, dt_pred)))\n",
    "\n",
    "rf_clf.fit(X_train, y_train)\n",
    "rf_pred = rf_clf.predict(X_test)\n",
    "print(\"RandomForestClassifier Accuracy : {0:.4f}\".format(accuracy_score(y_test, rf_pred)))\n",
    "\n",
    "lr_clf.fit(X_train, y_train)\n",
    "lr_pred = lr_clf.predict(X_test)\n",
    "print(\"LogisticRegression Accuracy : {0:.4f}\".format(accuracy_score(y_test, lr_pred)))"
   ]
  },
  {
   "cell_type": "markdown",
   "id": "5e5c0410",
   "metadata": {},
   "source": [
    "### - 최적 알고리즘을 찾기 위해 교차검증으로 평가해보기\n",
    "1. KFold\n",
    "2. cross_val_score\n",
    "3. GridSearchCV"
   ]
  },
  {
   "cell_type": "code",
   "execution_count": null,
   "id": "f4cd27d1",
   "metadata": {},
   "outputs": [
    {
     "name": "stdout",
     "output_type": "stream",
     "text": [
      "교차검증 0 정확도: 0.7542\n",
      "교차검증 1 정확도: 0.7809\n",
      "교차검증 2 정확도: 0.7865\n",
      "교차검증 3 정확도: 0.7697\n",
      "교차검증 4 정확도: 0.8202\n",
      "평균 정확도: 0.7823\n"
     ]
    }
   ],
   "source": [
    "# 1. KFold\n",
    "from sklearn.model_selection import KFold\n",
    "\n",
    "def exec_kfold(clf, folds=5):\n",
    "    # 폴드 세트 = 5, 객체 생성\n",
    "    kfold = KFold(n_splits=5)\n",
    "\n",
    "    scores = []\n",
    "\n",
    "    #KFold 교차검증\n",
    "    for iter_count, (train_index, test_index) in enumerate(kfold.split(X_titanic_df)):\n",
    "        # 학습/검증 index 생성\n",
    "        X_train, X_test = X_titanic_df.values[train_index], X_titanic_df.values[test_index]\n",
    "        y_train, y_test = y_titanic_df.values[train_index], y_titanic_df.values[test_index]\n",
    "        #Classifier 학습, 예측, 정확도 계산\n",
    "        clf.fit(X_train, y_train)\n",
    "        predictions = clf.predict(X_test)\n",
    "        accuracy = accuracy_score(y_test, predictions)\n",
    "        scores.append(accuracy)\n",
    "        print('교차검증 {0} 정확도: {1:.4f}'.format(iter_count, accuracy))\n",
    "\n",
    "    # 평균 score 계산\n",
    "    mean_score = np.mean(scores)\n",
    "    print('평균 정확도: {0:.4f}'.format(mean_score))\n",
    "\n",
    "# 호출\n",
    "exec_kfold(dt_clf, folds=5)\n"
   ]
  },
  {
   "cell_type": "code",
   "execution_count": 41,
   "id": "ff11244d",
   "metadata": {},
   "outputs": [
    {
     "name": "stdout",
     "output_type": "stream",
     "text": [
      "교차검증 0 정확도: 0.7430\n",
      "교차검증 1 정확도: 0.7753\n",
      "교차검증 2 정확도: 0.7921\n",
      "교차검증 3 정확도: 0.7865\n",
      "교차검증 4 정확도: 0.8427\n",
      "평균 정확도: 0.7879\n"
     ]
    }
   ],
   "source": [
    "# 2. cross_val_score \n",
    "from sklearn.model_selection import cross_val_score\n",
    "\n",
    "scores = cross_val_score(dt_clf, X_titanic_df, y_titanic_df, cv=5)\n",
    "for iter_count, accuracy in enumerate(scores):\n",
    "    print('교차검증 {0} 정확도: {1:.4f}'.format(iter_count, accuracy))\n",
    "\n",
    "print('평균 정확도: {0:.4f}'.format(np.mean(scores)))"
   ]
  },
  {
   "cell_type": "markdown",
   "id": "9dc38010",
   "metadata": {},
   "source": [
    "- 위의 두 정확도가 다른 이유 : cross_val_score가 StratifiedKFold를 이용해 폴드 세트를 분할하기 때문"
   ]
  },
  {
   "cell_type": "code",
   "execution_count": 42,
   "id": "13d046a9",
   "metadata": {},
   "outputs": [
    {
     "name": "stdout",
     "output_type": "stream",
     "text": [
      "GridSearchCV 최적 하이퍼 파라미터: {'max_depth': 3, 'min_samples_leaf': 5, 'min_samples_split': 2}\n",
      "GridSearchCV 최고 정확도:{0:.4f} 0.7991825076332119\n",
      "테스트 세트에서의 DecisionTreeClassifier 정확도 : 0.8715\n"
     ]
    }
   ],
   "source": [
    "# 3. GridSearchCV\n",
    "from sklearn.model_selection import GridSearchCV\n",
    "\n",
    "parameters = {'max_depth':[2, 3, 5, 10],\n",
    "              'min_samples_split':[2, 3, 5],\n",
    "              'min_samples_leaf': [1, 5, 8]}\n",
    "\n",
    "grid_dclf = GridSearchCV(dt_clf, param_grid=parameters, scoring='accuracy',cv=5)\n",
    "grid_dclf.fit(X_train, y_train)\n",
    "\n",
    "print('GridSearchCV 최적 하이퍼 파라미터:', grid_dclf.best_params_)\n",
    "print('GridSearchCV 최고 정확도:{0:.4f}', grid_dclf.best_score_)\n",
    "best_dclf = grid_dclf.best_estimator_\n",
    "\n",
    "# GridSearchCV의 최적 하이퍼 파라미터로 학습된 Estimator로 예측 수행\n",
    "dpredictions = best_dclf.predict(X_test)\n",
    "accuracy = accuracy_score(y_test, dpredictions)\n",
    "print('테스트 세트에서의 DecisionTreeClassifier 정확도 : {0:.4f}'.format(accuracy))"
   ]
  },
  {
   "cell_type": "markdown",
   "id": "4c04abb0",
   "metadata": {},
   "source": [
    "## <정리>\n",
    "- 사이킷런은 매우 많은 머신러닝 알고리즘을 제공할 뿐만 아니라, 쉽고 직관적인 API 프레임워크, 편리하고, 다양한 모듈을 자원함\n",
    "- 머신러닝 애플리케이션은 데이터의 가공 및 변환 과정의 전처리 작업, 데이터르 학습 데이터와 테스트 데이터로 분리하는 데이터 세트 분리 작업을 거친 후에 학습 데이터를 기반으로 머신러닝 알고리즘을 적용해 모델을 학습함.\n",
    "- 학습된 모델을 기반으로 예측을 수행하고 실제 결과값과 비교해 성능을 평가함\n",
    "- 데이터 전처리 작업\n",
    "    1. 오류데이터 보정\n",
    "    2. 결손값(Null) 처리 등의 데이터 클렌징 작업\n",
    "    3. 인코딩\n",
    "    4. 데이터 스케일링/정규화\n",
    "- 머신러닝 모델은 학습 데이터 세트로 학습한 뒤 반드시 별도의 테스트 데이터 세트로 평가되어야 한다.\n",
    "- 테스트 데이터의 건수 부족이나 고정된 테스트 데이터를 이용한 평가는 해당 세트에만 치우친 빈약한 머신러닝 모델을 만들 가능성이 높음\n",
    "    - 이를 해결하기 위해 여러 개의 폴드 세트를 구성하는 교차 검증을 수행한다. (KFold, StratifiedKFold, cross_val_score)\n",
    "    - 또한 최적의 하이퍼 파라미터를 교차 검증을 통해 추출하기 위해 GridSearchCV를 제공함."
   ]
  }
 ],
 "metadata": {
  "kernelspec": {
   "display_name": "tf_env",
   "language": "python",
   "name": "python3"
  },
  "language_info": {
   "codemirror_mode": {
    "name": "ipython",
    "version": 3
   },
   "file_extension": ".py",
   "mimetype": "text/x-python",
   "name": "python",
   "nbconvert_exporter": "python",
   "pygments_lexer": "ipython3",
   "version": "3.10.18"
  }
 },
 "nbformat": 4,
 "nbformat_minor": 5
}
